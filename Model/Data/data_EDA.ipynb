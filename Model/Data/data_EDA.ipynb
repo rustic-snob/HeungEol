{
 "cells": [
  {
   "cell_type": "code",
   "execution_count": 57,
   "metadata": {},
   "outputs": [],
   "source": [
    "import pandas as pd\n",
    "import matplotlib.pyplot as plt\n",
    "\n",
    "from collections import Counter\n",
    "from copy import deepcopy\n",
    "from transformers import AutoTokenizer\n",
    "from tqdm.auto import tqdm"
   ]
  },
  {
   "cell_type": "code",
   "execution_count": 5,
   "metadata": {},
   "outputs": [],
   "source": [
    "df = pd.read_csv('/opt/ml/HeungEol/Model/Data/Dataset/ready/cooked_HeungEol_Dataset_v1.0.csv', encoding = 'utf-8-sig')"
   ]
  },
  {
   "cell_type": "code",
   "execution_count": 17,
   "metadata": {},
   "outputs": [
    {
     "data": {
      "text/html": [
       "<div>\n",
       "<style scoped>\n",
       "    .dataframe tbody tr th:only-of-type {\n",
       "        vertical-align: middle;\n",
       "    }\n",
       "\n",
       "    .dataframe tbody tr th {\n",
       "        vertical-align: top;\n",
       "    }\n",
       "\n",
       "    .dataframe thead th {\n",
       "        text-align: right;\n",
       "    }\n",
       "</style>\n",
       "<table border=\"1\" class=\"dataframe\">\n",
       "  <thead>\n",
       "    <tr style=\"text-align: right;\">\n",
       "      <th></th>\n",
       "      <th>제목</th>\n",
       "      <th>장르</th>\n",
       "      <th>gen_lyrics</th>\n",
       "      <th>gen_notes</th>\n",
       "    </tr>\n",
       "  </thead>\n",
       "  <tbody>\n",
       "    <tr>\n",
       "      <th>0</th>\n",
       "      <td>J에게</td>\n",
       "      <td>발라드</td>\n",
       "      <td>난 오늘도 조용히 그댈 그리워하네 / 내 가슴 속깊이 여울져 남아 있네</td>\n",
       "      <td>14 / 13</td>\n",
       "    </tr>\n",
       "    <tr>\n",
       "      <th>1</th>\n",
       "      <td>J에게</td>\n",
       "      <td>발라드</td>\n",
       "      <td>난 이밤도 쓸쓸히 쓸쓸히 걷고 있네 / 난 이밤도 쓸쓸히 쓸쓸히 걷고 있네</td>\n",
       "      <td>14 / 14</td>\n",
       "    </tr>\n",
       "    <tr>\n",
       "      <th>2</th>\n",
       "      <td>J에게</td>\n",
       "      <td>발라드</td>\n",
       "      <td>쓸쓸히 걷고 있네</td>\n",
       "      <td>7</td>\n",
       "    </tr>\n",
       "    <tr>\n",
       "      <th>3</th>\n",
       "      <td>갯바위</td>\n",
       "      <td>포크/블루스</td>\n",
       "      <td>나는 나는 갯바위 / 당신은 나를 사랑하는 파도 / 어느 고운 바람 불던날</td>\n",
       "      <td>7 / 11 / 9</td>\n",
       "    </tr>\n",
       "    <tr>\n",
       "      <th>4</th>\n",
       "      <td>갯바위</td>\n",
       "      <td>포크/블루스</td>\n",
       "      <td>잔잔히 다가와 / 부드러운 손길로 나를 감싸고 / 향기로운 입술도 내게 주었지</td>\n",
       "      <td>6 / 12 / 12</td>\n",
       "    </tr>\n",
       "    <tr>\n",
       "      <th>5</th>\n",
       "      <td>갯바위</td>\n",
       "      <td>포크/블루스</td>\n",
       "      <td>세찬 비바람에 / 내몸이 패이고 / 이는 파도에 깨끗이 부서져도</td>\n",
       "      <td>6 / 6 / 12</td>\n",
       "    </tr>\n",
       "    <tr>\n",
       "      <th>6</th>\n",
       "      <td>갯바위</td>\n",
       "      <td>포크/블루스</td>\n",
       "      <td>나의 생은 당신의 / 조각품인것을 / 나는 당신으로 인해 / 아름다운 것을</td>\n",
       "      <td>7 / 6 / 8 / 6</td>\n",
       "    </tr>\n",
       "    <tr>\n",
       "      <th>7</th>\n",
       "      <td>갯바위</td>\n",
       "      <td>포크/블루스</td>\n",
       "      <td>나는 나는 갯바위 / 당신은 나를 사랑하는 파도 / 우린 오늘도 마주보며</td>\n",
       "      <td>7 / 11 / 9</td>\n",
       "    </tr>\n",
       "    <tr>\n",
       "      <th>8</th>\n",
       "      <td>갯바위</td>\n",
       "      <td>포크/블루스</td>\n",
       "      <td>이렇게 서있네 / 세찬 비바람에 내몸이 패이고 / 이는 파도에 깨끗이 부서져도</td>\n",
       "      <td>6 / 12 / 12</td>\n",
       "    </tr>\n",
       "    <tr>\n",
       "      <th>9</th>\n",
       "      <td>갯바위</td>\n",
       "      <td>포크/블루스</td>\n",
       "      <td>이렇게 서있네 / 나는 나는 갯바위 / 당신은 나를 사랑하는 파도</td>\n",
       "      <td>6 / 7 / 11</td>\n",
       "    </tr>\n",
       "  </tbody>\n",
       "</table>\n",
       "</div>"
      ],
      "text/plain": [
       "    제목      장르                                   gen_lyrics      gen_notes\n",
       "0  J에게     발라드      난 오늘도 조용히 그댈 그리워하네 / 내 가슴 속깊이 여울져 남아 있네        14 / 13\n",
       "1  J에게     발라드    난 이밤도 쓸쓸히 쓸쓸히 걷고 있네 / 난 이밤도 쓸쓸히 쓸쓸히 걷고 있네        14 / 14\n",
       "2  J에게     발라드                                   쓸쓸히 걷고 있네               7\n",
       "3  갯바위  포크/블루스    나는 나는 갯바위 / 당신은 나를 사랑하는 파도 / 어느 고운 바람 불던날     7 / 11 / 9\n",
       "4  갯바위  포크/블루스  잔잔히 다가와 / 부드러운 손길로 나를 감싸고 / 향기로운 입술도 내게 주었지    6 / 12 / 12\n",
       "5  갯바위  포크/블루스          세찬 비바람에 / 내몸이 패이고 / 이는 파도에 깨끗이 부서져도     6 / 6 / 12\n",
       "6  갯바위  포크/블루스    나의 생은 당신의 / 조각품인것을 / 나는 당신으로 인해 / 아름다운 것을  7 / 6 / 8 / 6\n",
       "7  갯바위  포크/블루스     나는 나는 갯바위 / 당신은 나를 사랑하는 파도 / 우린 오늘도 마주보며     7 / 11 / 9\n",
       "8  갯바위  포크/블루스  이렇게 서있네 / 세찬 비바람에 내몸이 패이고 / 이는 파도에 깨끗이 부서져도    6 / 12 / 12\n",
       "9  갯바위  포크/블루스         이렇게 서있네 / 나는 나는 갯바위 / 당신은 나를 사랑하는 파도     6 / 7 / 11"
      ]
     },
     "execution_count": 17,
     "metadata": {},
     "output_type": "execute_result"
    }
   ],
   "source": [
    "df.head(10)"
   ]
  },
  {
   "cell_type": "code",
   "execution_count": 18,
   "metadata": {},
   "outputs": [],
   "source": [
    "df.dropna(inplace=True)"
   ]
  },
  {
   "cell_type": "code",
   "execution_count": 19,
   "metadata": {},
   "outputs": [
    {
     "data": {
      "text/plain": [
       "제목     장르     gen_lyrics  gen_notes\n",
       "False  False  False       False        907545\n",
       "Name: count, dtype: int64"
      ]
     },
     "execution_count": 19,
     "metadata": {},
     "output_type": "execute_result"
    }
   ],
   "source": [
    "df.isna().value_counts()"
   ]
  },
  {
   "cell_type": "code",
   "execution_count": 20,
   "metadata": {},
   "outputs": [],
   "source": [
    "df['units'] = [len(x.split(' / ')) for x in df.gen_notes]"
   ]
  },
  {
   "cell_type": "code",
   "execution_count": 21,
   "metadata": {},
   "outputs": [
    {
     "data": {
      "text/plain": [
       "0    2\n",
       "1    2\n",
       "2    1\n",
       "3    3\n",
       "4    3\n",
       "5    3\n",
       "6    4\n",
       "7    3\n",
       "8    3\n",
       "9    3\n",
       "Name: units, dtype: int64"
      ]
     },
     "execution_count": 21,
     "metadata": {},
     "output_type": "execute_result"
    }
   ],
   "source": [
    "df['units'][:10]"
   ]
  },
  {
   "cell_type": "code",
   "execution_count": 35,
   "metadata": {},
   "outputs": [
    {
     "data": {
      "image/png": "[encoded data removed]",
      "text/plain": [
       "<Figure size 432x288 with 1 Axes>"
      ]
     },
     "metadata": {
      "needs_background": "light"
     },
     "output_type": "display_data"
    }
   ],
   "source": [
    "freq = Counter(df['units'])\n",
    "\n",
    "sorted_units = sorted(freq.keys())\n",
    "\n",
    "plt.bar(sorted_units, [freq[unit] for unit in sorted_units])\n",
    "\n",
    "plt.xlabel('Integer Value')\n",
    "plt.ylabel('Frequency')\n",
    "\n",
    "plt.yscale('log')\n",
    "\n",
    "plt.title('Frequency of Integers')\n",
    "\n",
    "plt.show()"
   ]
  },
  {
   "cell_type": "code",
   "execution_count": 27,
   "metadata": {},
   "outputs": [
    {
     "data": {
      "text/plain": [
       "[(3, 318236),\n",
       " (4, 212681),\n",
       " (2, 172521),\n",
       " (5, 101252),\n",
       " (6, 39253),\n",
       " (1, 22749),\n",
       " (7, 10432),\n",
       " (8, 2691),\n",
       " (28, 995),\n",
       " (29, 948),\n",
       " (30, 912),\n",
       " (33, 911),\n",
       " (32, 900),\n",
       " (34, 863),\n",
       " (31, 848),\n",
       " (24, 845),\n",
       " (26, 824),\n",
       " (9, 797),\n",
       " (25, 797),\n",
       " (35, 789),\n",
       " (27, 766),\n",
       " (37, 762),\n",
       " (36, 749),\n",
       " (38, 718),\n",
       " (23, 671),\n",
       " (40, 662),\n",
       " (22, 656),\n",
       " (20, 639),\n",
       " (39, 598),\n",
       " (42, 594),\n",
       " (21, 565),\n",
       " (41, 549),\n",
       " (43, 492),\n",
       " (19, 478),\n",
       " (18, 470),\n",
       " (44, 455),\n",
       " (16, 454),\n",
       " (45, 429),\n",
       " (10, 409),\n",
       " (46, 405),\n",
       " (17, 370),\n",
       " (47, 343),\n",
       " (48, 312),\n",
       " (14, 307),\n",
       " (15, 298),\n",
       " (12, 296),\n",
       " (49, 284),\n",
       " (50, 279),\n",
       " (11, 246),\n",
       " (51, 228),\n",
       " (13, 226),\n",
       " (52, 219),\n",
       " (54, 188),\n",
       " (55, 175),\n",
       " (53, 172),\n",
       " (56, 150),\n",
       " (57, 142),\n",
       " (58, 131),\n",
       " (61, 111),\n",
       " (60, 108),\n",
       " (59, 106),\n",
       " (62, 92),\n",
       " (64, 72),\n",
       " (63, 68),\n",
       " (65, 62),\n",
       " (68, 56),\n",
       " (67, 54),\n",
       " (66, 50),\n",
       " (70, 48),\n",
       " (69, 44),\n",
       " (72, 40),\n",
       " (71, 39),\n",
       " (73, 34),\n",
       " (81, 27),\n",
       " (79, 25),\n",
       " (78, 24),\n",
       " (76, 23),\n",
       " (74, 22),\n",
       " (83, 21),\n",
       " (89, 19),\n",
       " (84, 17),\n",
       " (80, 16),\n",
       " (75, 15),\n",
       " (77, 14),\n",
       " (86, 14),\n",
       " (82, 11),\n",
       " (93, 11),\n",
       " (88, 11),\n",
       " (85, 11),\n",
       " (97, 11),\n",
       " (92, 10),\n",
       " (95, 9),\n",
       " (87, 9),\n",
       " (91, 8),\n",
       " (90, 8),\n",
       " (98, 8),\n",
       " (96, 8),\n",
       " (105, 7),\n",
       " (94, 7),\n",
       " (99, 7),\n",
       " (100, 6),\n",
       " (102, 5),\n",
       " (101, 3),\n",
       " (103, 3),\n",
       " (119, 3),\n",
       " (111, 2),\n",
       " (109, 2),\n",
       " (104, 2),\n",
       " (117, 2),\n",
       " (135, 2),\n",
       " (128, 2),\n",
       " (112, 2),\n",
       " (114, 2),\n",
       " (108, 2),\n",
       " (107, 2),\n",
       " (136, 2),\n",
       " (131, 2),\n",
       " (145, 1),\n",
       " (156, 1),\n",
       " (163, 1),\n",
       " (113, 1),\n",
       " (106, 1),\n",
       " (129, 1),\n",
       " (149, 1),\n",
       " (124, 1),\n",
       " (199, 1),\n",
       " (116, 1),\n",
       " (126, 1),\n",
       " (134, 1),\n",
       " (110, 1)]"
      ]
     },
     "execution_count": 27,
     "metadata": {},
     "output_type": "execute_result"
    }
   ],
   "source": [
    "sorted(freq.items(), key=lambda x: x[1], reverse=True)"
   ]
  },
  {
   "cell_type": "code",
   "execution_count": 40,
   "metadata": {},
   "outputs": [
    {
     "data": {
      "text/plain": [
       "907545"
      ]
     },
     "execution_count": 40,
     "metadata": {},
     "output_type": "execute_result"
    }
   ],
   "source": [
    "len(df)"
   ]
  },
  {
   "cell_type": "code",
   "execution_count": 29,
   "metadata": {},
   "outputs": [
    {
     "data": {
      "text/plain": [
       "장르\n",
       "랩/힙합            241\n",
       "인디음악, 록/메탈      109\n",
       "댄스               82\n",
       "발라드              54\n",
       "인디음악, 포크/블루스     38\n",
       "R&B/Soul          8\n",
       "록/메탈              4\n",
       "댄스, 랩/힙합          3\n",
       "성인가요/트로트          1\n",
       "댄스, R&B/Soul      1\n",
       "발라드, 랩/힙합         1\n",
       "랩/힙합, 인디음악        1\n",
       "Name: count, dtype: int64"
      ]
     },
     "execution_count": 29,
     "metadata": {},
     "output_type": "execute_result"
    }
   ],
   "source": [
    "df[df['units']>70]['장르'].value_counts()"
   ]
  },
  {
   "cell_type": "code",
   "execution_count": 32,
   "metadata": {},
   "outputs": [],
   "source": [
    "df_truncated = df[df['units']<70]"
   ]
  },
  {
   "cell_type": "code",
   "execution_count": 34,
   "metadata": {},
   "outputs": [
    {
     "data": {
      "image/png": "[encoded data removed]",
      "text/plain": [
       "<Figure size 432x288 with 1 Axes>"
      ]
     },
     "metadata": {
      "needs_background": "light"
     },
     "output_type": "display_data"
    }
   ],
   "source": [
    "freq = Counter(df_truncated['units'])\n",
    "\n",
    "sorted_units_truncated = sorted(freq.keys())\n",
    "\n",
    "plt.bar(sorted_units_truncated, [freq[unit] for unit in sorted_units_truncated])\n",
    "\n",
    "plt.xlabel('Integer Value')\n",
    "plt.ylabel('Frequency')\n",
    "\n",
    "plt.yscale('log')\n",
    "\n",
    "plt.title('Frequency of Integers')\n",
    "\n",
    "plt.show()"
   ]
  },
  {
   "cell_type": "code",
   "execution_count": 41,
   "metadata": {},
   "outputs": [
    {
     "data": {
      "text/plain": [
       "906954"
      ]
     },
     "execution_count": 41,
     "metadata": {},
     "output_type": "execute_result"
    }
   ],
   "source": [
    "len(df_truncated)"
   ]
  },
  {
   "cell_type": "code",
   "execution_count": 37,
   "metadata": {},
   "outputs": [],
   "source": [
    "df_genre_filtered = deepcopy(df_truncated)"
   ]
  },
  {
   "cell_type": "code",
   "execution_count": 46,
   "metadata": {},
   "outputs": [],
   "source": [
    "df_genre_filtered = df_genre_filtered[~df_genre_filtered['장르'].str.contains('랩')]\n",
    "df_genre_filtered = df_genre_filtered[~df_genre_filtered['장르'].str.contains('CCM')]\n",
    "df_genre_filtered = df_genre_filtered[~df_genre_filtered['장르'].str.contains('J-POP')]\n",
    "df_genre_filtered = df_genre_filtered[~df_genre_filtered['장르'].str.contains('-')]"
   ]
  },
  {
   "cell_type": "code",
   "execution_count": 47,
   "metadata": {},
   "outputs": [
    {
     "data": {
      "image/png": "[encoded data removed]",
      "text/plain": [
       "<Figure size 432x288 with 1 Axes>"
      ]
     },
     "metadata": {
      "needs_background": "light"
     },
     "output_type": "display_data"
    }
   ],
   "source": [
    "freq = Counter(df_genre_filtered['units'])\n",
    "\n",
    "sorted_units_genre_filtered = sorted(freq.keys())\n",
    "\n",
    "plt.bar(sorted_units_genre_filtered, [freq[unit] for unit in sorted_units_genre_filtered])\n",
    "\n",
    "plt.xlabel('Integer Value')\n",
    "plt.ylabel('Frequency')\n",
    "\n",
    "plt.yscale('log')\n",
    "\n",
    "plt.title('Frequency of Integers')\n",
    "\n",
    "plt.show()"
   ]
  },
  {
   "cell_type": "code",
   "execution_count": 48,
   "metadata": {},
   "outputs": [
    {
     "data": {
      "text/plain": [
       "858463"
      ]
     },
     "execution_count": 48,
     "metadata": {},
     "output_type": "execute_result"
    }
   ],
   "source": [
    "len(df_genre_filtered)"
   ]
  },
  {
   "cell_type": "code",
   "execution_count": 49,
   "metadata": {},
   "outputs": [
    {
     "data": {
      "text/plain": [
       "장르\n",
       "인디음악, 록/메탈               377501\n",
       "인디음악, 포크/블루스             269496\n",
       "발라드                       92281\n",
       "댄스                        67339\n",
       "록/메탈                      17681\n",
       "R&B/Soul                  15223\n",
       "성인가요/트로트                   5340\n",
       "포크/블루스                     4586\n",
       "발라드, 국내드라마                 2348\n",
       "발라드, R&B/Soul               798\n",
       "일렉트로니카                      600\n",
       "발라드, 인디음악                   586\n",
       "국내드라마                       556\n",
       "발라드, 록/메탈                   551\n",
       "발라드, 국내영화                   430\n",
       "록/메탈, 국내드라마                 371\n",
       "인디음악, 록/메탈, 일렉트로니카          348\n",
       "인디음악, 록/메탈, 포크/블루스          319\n",
       "발라드, 포크/블루스                 314\n",
       "발라드, 인디음악, 포크/블루스           214\n",
       "R&B/Soul, 인디음악              196\n",
       "국내영화                        195\n",
       "댄스, R&B/Soul                155\n",
       "록/메탈, 포크/블루스                124\n",
       "발라드, 인디음악, 록/메탈             117\n",
       "발라드, 성인가요/트로트               102\n",
       "인디음악, 일렉트로니카                 93\n",
       "발라드, R&B/Soul, 국내드라마         90\n",
       "R&B/Soul, 인디음악, 록/메탈         81\n",
       "포크/블루스, 국내드라마                62\n",
       "댄스, 국내영화                     53\n",
       "발라드, 애니메이션/웹툰, 키즈, 만화        44\n",
       "댄스, 인디음악, 록/메탈               40\n",
       "애니메이션/웹툰                     39\n",
       "댄스, 일렉트로니카                   37\n",
       "재즈, 애시드/퓨전/팝                 30\n",
       "재즈, 보컬재즈                     29\n",
       "댄스, 인디음악, 포크/블루스             28\n",
       "발라드, 댄스, R&B/Soul            26\n",
       "록/메탈, 국내영화                   26\n",
       "클래식, 크로스오버, 교향/관현악           13\n",
       "POP                           1\n",
       "Name: count, dtype: int64"
      ]
     },
     "execution_count": 49,
     "metadata": {},
     "output_type": "execute_result"
    }
   ],
   "source": [
    "df_genre_filtered['장르'].value_counts()"
   ]
  },
  {
   "cell_type": "code",
   "execution_count": 53,
   "metadata": {},
   "outputs": [],
   "source": [
    "tokenizer = AutoTokenizer.from_pretrained('beomi/KoAlpaca-Polyglot-12.8B')"
   ]
  },
  {
   "cell_type": "code",
   "execution_count": 54,
   "metadata": {},
   "outputs": [
    {
     "data": {
      "text/plain": [
       "{'input_ids': [13468, 15, 10859, 4987, 15, 17721, 18, 10734, 387], 'token_type_ids': [0, 0, 0, 0, 0, 0, 0, 0, 0], 'attention_mask': [1, 1, 1, 1, 1, 1, 1, 1, 1]}"
      ]
     },
     "execution_count": 54,
     "metadata": {},
     "output_type": "execute_result"
    }
   ],
   "source": [
    "tokenizer('댄스, 인디음악, 포크/블루스')"
   ]
  },
  {
   "cell_type": "code",
   "execution_count": 72,
   "metadata": {},
   "outputs": [],
   "source": [
    "freq = [len(x) for x in tokenizer(list(df_genre_filtered.gen_lyrics))['input_ids']]"
   ]
  },
  {
   "cell_type": "code",
   "execution_count": 75,
   "metadata": {},
   "outputs": [
    {
     "data": {
      "image/png": "[encoded data removed]",
      "text/plain": [
       "<Figure size 432x288 with 1 Axes>"
      ]
     },
     "metadata": {
      "needs_background": "light"
     },
     "output_type": "display_data"
    }
   ],
   "source": [
    "freq = Counter(freq)\n",
    "\n",
    "sorted_token_length = sorted(freq.keys())\n",
    "\n",
    "plt.bar(sorted_token_length, [freq[unit] for unit in sorted_token_length])\n",
    "\n",
    "plt.xlabel('token_length')\n",
    "plt.ylabel('Frequency')\n",
    "\n",
    "plt.yscale('log')\n",
    "\n",
    "plt.title('Frequency of Integers')\n",
    "\n",
    "plt.show()"
   ]
  },
  {
   "cell_type": "code",
   "execution_count": null,
   "metadata": {},
   "outputs": [],
   "source": []
  },
  {
   "cell_type": "code",
   "execution_count": 79,
   "metadata": {},
   "outputs": [],
   "source": [
    "instruction = \"다음 조건에 어울리는 가사를 생성하시오. 주어진 음절 수를 절대 벗어나지 말 것. 제목과 장르에 어울려야 할 것. 생성 형식은 ['가사 // 가사 // 가사 // 가사']와 같음.\"\n",
    "title = '세상에 이정도면 정말 긴 제목이다'\n",
    "genre = '일렉트로니카'\n",
    "notes = '10 / 10 / 10 / 10 / 10 / 10 / 10 / 10 / 10 / 10 / 10 / 10 / 10 / 10 / 10 / 10 / 10 / 10 / 10 / 10 / 10 / 10 / 10 / 10 / 10 / 10 / 10 / 10 / 10 / 10 / 10 / 10 / 10 / '\n",
    "        \n",
    "\n",
    "prompt = f\"### Instruction(명령어):\\n{instruction}\\n\\n### Input(입력):\\n음절 수는 [{notes}], 제목은 [{title}], 본문은 [{genre}]이다.\\n\\n### Response(응답): \\n\""
   ]
  },
  {
   "cell_type": "code",
   "execution_count": 80,
   "metadata": {},
   "outputs": [
    {
     "data": {
      "text/plain": [
       "\"### Instruction(명령어):\\n다음 조건에 어울리는 가사를 생성하시오. 주어진 음절 수를 절대 벗어나지 말 것. 제목과 장르에 어울려야 할 것. 생성 형식은 ['가사 // 가사 // 가사 // 가사']와 같음.\\n\\n### Input(입력):\\n음절 수는 [10 / 10 / 10 / 10 / 10 / 10 / 10 / 10 / 10 / 10 / 10 / 10 / 10 / 10 / 10 / 10 / 10 / 10 / 10 / 10 / 10 / 10 / 10 / 10 / 10 / 10 / 10 / 10 / 10 / 10 / 10 / 10 / 10 / ], 제목은 [세상에 이정도면 정말 긴 제목이다], 본문은 [일렉트로니카]이다.\\n\\n### Response(응답): \\n\""
      ]
     },
     "execution_count": 80,
     "metadata": {},
     "output_type": "execute_result"
    }
   ],
   "source": [
    "prompt"
   ]
  },
  {
   "cell_type": "code",
   "execution_count": 81,
   "metadata": {},
   "outputs": [
    {
     "data": {
      "text/plain": [
       "194"
      ]
     },
     "execution_count": 81,
     "metadata": {},
     "output_type": "execute_result"
    }
   ],
   "source": [
    "len(tokenizer(prompt)['input_ids'])"
   ]
  }
 ],
 "metadata": {
  "kernelspec": {
   "display_name": "final_project",
   "language": "python",
   "name": "python3"
  },
  "language_info": {
   "codemirror_mode": {
    "name": "ipython",
    "version": 3
   },
   "file_extension": ".py",
   "mimetype": "text/x-python",
   "name": "python",
   "nbconvert_exporter": "python",
   "pygments_lexer": "ipython3",
   "version": "3.8.5"
  },
  "orig_nbformat": 4
 },
 "nbformat": 4,
 "nbformat_minor": 2
}
