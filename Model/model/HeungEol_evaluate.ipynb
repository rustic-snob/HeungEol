{
  "nbformat": 4,
  "nbformat_minor": 0,
  "metadata": {
    "colab": {
      "provenance": [],
      "gpuType": "T4",
      "toc_visible": true
    },
    "kernelspec": {
      "name": "python3",
      "display_name": "Python 3"
    },
    "language_info": {
      "name": "python"
    },
    "accelerator": "GPU",
    "widgets": {
      "application/vnd.jupyter.widget-state+json": {
        "7ee39c2228604f88b681325860953fdf": {
          "model_module": "@jupyter-widgets/controls",
          "model_name": "HBoxModel",
          "model_module_version": "1.5.0",
          "state": {
            "_dom_classes": [],
            "_model_module": "@jupyter-widgets/controls",
            "_model_module_version": "1.5.0",
            "_model_name": "HBoxModel",
            "_view_count": null,
            "_view_module": "@jupyter-widgets/controls",
            "_view_module_version": "1.5.0",
            "_view_name": "HBoxView",
            "box_style": "",
            "children": [
              "IPY_MODEL_198b5e1b40584171a3f18431c6b62559",
              "IPY_MODEL_a5e37d0c440c41eab208ae86778f0f4e",
              "IPY_MODEL_824438d030c84db6be442e9932edc274"
            ],
            "layout": "IPY_MODEL_d3aa0a1535884c8d968746228d4a9012"
          }
        },
        "198b5e1b40584171a3f18431c6b62559": {
          "model_module": "@jupyter-widgets/controls",
          "model_name": "HTMLModel",
          "model_module_version": "1.5.0",
          "state": {
            "_dom_classes": [],
            "_model_module": "@jupyter-widgets/controls",
            "_model_module_version": "1.5.0",
            "_model_name": "HTMLModel",
            "_view_count": null,
            "_view_module": "@jupyter-widgets/controls",
            "_view_module_version": "1.5.0",
            "_view_name": "HTMLView",
            "description": "",
            "description_tooltip": null,
            "layout": "IPY_MODEL_fbaa6c5103f04ad6bb80682d1efca7fc",
            "placeholder": "​",
            "style": "IPY_MODEL_14c11a94b58743d2b856dcbd8170672c",
            "value": "Loading checkpoint shards: 100%"
          }
        },
        "a5e37d0c440c41eab208ae86778f0f4e": {
          "model_module": "@jupyter-widgets/controls",
          "model_name": "FloatProgressModel",
          "model_module_version": "1.5.0",
          "state": {
            "_dom_classes": [],
            "_model_module": "@jupyter-widgets/controls",
            "_model_module_version": "1.5.0",
            "_model_name": "FloatProgressModel",
            "_view_count": null,
            "_view_module": "@jupyter-widgets/controls",
            "_view_module_version": "1.5.0",
            "_view_name": "ProgressView",
            "bar_style": "success",
            "description": "",
            "description_tooltip": null,
            "layout": "IPY_MODEL_fd70208538434f938dfe8bcdfcdc83e5",
            "max": 28,
            "min": 0,
            "orientation": "horizontal",
            "style": "IPY_MODEL_fff7459f6f8541488ce8e5068101b338",
            "value": 28
          }
        },
        "824438d030c84db6be442e9932edc274": {
          "model_module": "@jupyter-widgets/controls",
          "model_name": "HTMLModel",
          "model_module_version": "1.5.0",
          "state": {
            "_dom_classes": [],
            "_model_module": "@jupyter-widgets/controls",
            "_model_module_version": "1.5.0",
            "_model_name": "HTMLModel",
            "_view_count": null,
            "_view_module": "@jupyter-widgets/controls",
            "_view_module_version": "1.5.0",
            "_view_name": "HTMLView",
            "description": "",
            "description_tooltip": null,
            "layout": "IPY_MODEL_df710d7c1c5944b6ae3773582e75e642",
            "placeholder": "​",
            "style": "IPY_MODEL_46d276f7888c46e98650e24e21dbfcfc",
            "value": " 28/28 [03:07&lt;00:00,  5.43s/it]"
          }
        },
        "d3aa0a1535884c8d968746228d4a9012": {
          "model_module": "@jupyter-widgets/base",
          "model_name": "LayoutModel",
          "model_module_version": "1.2.0",
          "state": {
            "_model_module": "@jupyter-widgets/base",
            "_model_module_version": "1.2.0",
            "_model_name": "LayoutModel",
            "_view_count": null,
            "_view_module": "@jupyter-widgets/base",
            "_view_module_version": "1.2.0",
            "_view_name": "LayoutView",
            "align_content": null,
            "align_items": null,
            "align_self": null,
            "border": null,
            "bottom": null,
            "display": null,
            "flex": null,
            "flex_flow": null,
            "grid_area": null,
            "grid_auto_columns": null,
            "grid_auto_flow": null,
            "grid_auto_rows": null,
            "grid_column": null,
            "grid_gap": null,
            "grid_row": null,
            "grid_template_areas": null,
            "grid_template_columns": null,
            "grid_template_rows": null,
            "height": null,
            "justify_content": null,
            "justify_items": null,
            "left": null,
            "margin": null,
            "max_height": null,
            "max_width": null,
            "min_height": null,
            "min_width": null,
            "object_fit": null,
            "object_position": null,
            "order": null,
            "overflow": null,
            "overflow_x": null,
            "overflow_y": null,
            "padding": null,
            "right": null,
            "top": null,
            "visibility": null,
            "width": null
          }
        },
        "fbaa6c5103f04ad6bb80682d1efca7fc": {
          "model_module": "@jupyter-widgets/base",
          "model_name": "LayoutModel",
          "model_module_version": "1.2.0",
          "state": {
            "_model_module": "@jupyter-widgets/base",
            "_model_module_version": "1.2.0",
            "_model_name": "LayoutModel",
            "_view_count": null,
            "_view_module": "@jupyter-widgets/base",
            "_view_module_version": "1.2.0",
            "_view_name": "LayoutView",
            "align_content": null,
            "align_items": null,
            "align_self": null,
            "border": null,
            "bottom": null,
            "display": null,
            "flex": null,
            "flex_flow": null,
            "grid_area": null,
            "grid_auto_columns": null,
            "grid_auto_flow": null,
            "grid_auto_rows": null,
            "grid_column": null,
            "grid_gap": null,
            "grid_row": null,
            "grid_template_areas": null,
            "grid_template_columns": null,
            "grid_template_rows": null,
            "height": null,
            "justify_content": null,
            "justify_items": null,
            "left": null,
            "margin": null,
            "max_height": null,
            "max_width": null,
            "min_height": null,
            "min_width": null,
            "object_fit": null,
            "object_position": null,
            "order": null,
            "overflow": null,
            "overflow_x": null,
            "overflow_y": null,
            "padding": null,
            "right": null,
            "top": null,
            "visibility": null,
            "width": null
          }
        },
        "14c11a94b58743d2b856dcbd8170672c": {
          "model_module": "@jupyter-widgets/controls",
          "model_name": "DescriptionStyleModel",
          "model_module_version": "1.5.0",
          "state": {
            "_model_module": "@jupyter-widgets/controls",
            "_model_module_version": "1.5.0",
            "_model_name": "DescriptionStyleModel",
            "_view_count": null,
            "_view_module": "@jupyter-widgets/base",
            "_view_module_version": "1.2.0",
            "_view_name": "StyleView",
            "description_width": ""
          }
        },
        "fd70208538434f938dfe8bcdfcdc83e5": {
          "model_module": "@jupyter-widgets/base",
          "model_name": "LayoutModel",
          "model_module_version": "1.2.0",
          "state": {
            "_model_module": "@jupyter-widgets/base",
            "_model_module_version": "1.2.0",
            "_model_name": "LayoutModel",
            "_view_count": null,
            "_view_module": "@jupyter-widgets/base",
            "_view_module_version": "1.2.0",
            "_view_name": "LayoutView",
            "align_content": null,
            "align_items": null,
            "align_self": null,
            "border": null,
            "bottom": null,
            "display": null,
            "flex": null,
            "flex_flow": null,
            "grid_area": null,
            "grid_auto_columns": null,
            "grid_auto_flow": null,
            "grid_auto_rows": null,
            "grid_column": null,
            "grid_gap": null,
            "grid_row": null,
            "grid_template_areas": null,
            "grid_template_columns": null,
            "grid_template_rows": null,
            "height": null,
            "justify_content": null,
            "justify_items": null,
            "left": null,
            "margin": null,
            "max_height": null,
            "max_width": null,
            "min_height": null,
            "min_width": null,
            "object_fit": null,
            "object_position": null,
            "order": null,
            "overflow": null,
            "overflow_x": null,
            "overflow_y": null,
            "padding": null,
            "right": null,
            "top": null,
            "visibility": null,
            "width": null
          }
        },
        "fff7459f6f8541488ce8e5068101b338": {
          "model_module": "@jupyter-widgets/controls",
          "model_name": "ProgressStyleModel",
          "model_module_version": "1.5.0",
          "state": {
            "_model_module": "@jupyter-widgets/controls",
            "_model_module_version": "1.5.0",
            "_model_name": "ProgressStyleModel",
            "_view_count": null,
            "_view_module": "@jupyter-widgets/base",
            "_view_module_version": "1.2.0",
            "_view_name": "StyleView",
            "bar_color": null,
            "description_width": ""
          }
        },
        "df710d7c1c5944b6ae3773582e75e642": {
          "model_module": "@jupyter-widgets/base",
          "model_name": "LayoutModel",
          "model_module_version": "1.2.0",
          "state": {
            "_model_module": "@jupyter-widgets/base",
            "_model_module_version": "1.2.0",
            "_model_name": "LayoutModel",
            "_view_count": null,
            "_view_module": "@jupyter-widgets/base",
            "_view_module_version": "1.2.0",
            "_view_name": "LayoutView",
            "align_content": null,
            "align_items": null,
            "align_self": null,
            "border": null,
            "bottom": null,
            "display": null,
            "flex": null,
            "flex_flow": null,
            "grid_area": null,
            "grid_auto_columns": null,
            "grid_auto_flow": null,
            "grid_auto_rows": null,
            "grid_column": null,
            "grid_gap": null,
            "grid_row": null,
            "grid_template_areas": null,
            "grid_template_columns": null,
            "grid_template_rows": null,
            "height": null,
            "justify_content": null,
            "justify_items": null,
            "left": null,
            "margin": null,
            "max_height": null,
            "max_width": null,
            "min_height": null,
            "min_width": null,
            "object_fit": null,
            "object_position": null,
            "order": null,
            "overflow": null,
            "overflow_x": null,
            "overflow_y": null,
            "padding": null,
            "right": null,
            "top": null,
            "visibility": null,
            "width": null
          }
        },
        "46d276f7888c46e98650e24e21dbfcfc": {
          "model_module": "@jupyter-widgets/controls",
          "model_name": "DescriptionStyleModel",
          "model_module_version": "1.5.0",
          "state": {
            "_model_module": "@jupyter-widgets/controls",
            "_model_module_version": "1.5.0",
            "_model_name": "DescriptionStyleModel",
            "_view_count": null,
            "_view_module": "@jupyter-widgets/base",
            "_view_module_version": "1.2.0",
            "_view_name": "StyleView",
            "description_width": ""
          }
        }
      }
    }
  },
  "cells": [
    {
      "cell_type": "markdown",
      "source": [
        "#Init"
      ],
      "metadata": {
        "id": "z1kRd7bidJ73"
      }
    },
    {
      "cell_type": "code",
      "source": [
        "from google.colab import drive\n",
        "drive.mount('/content/drive')"
      ],
      "metadata": {
        "colab": {
          "base_uri": "https://localhost:8080/"
        },
        "id": "D7RYjbeSSMhH",
        "outputId": "608e7c3e-001e-492c-a87a-901d0419f144"
      },
      "execution_count": null,
      "outputs": [
        {
          "output_type": "stream",
          "name": "stdout",
          "text": [
            "Drive already mounted at /content/drive; to attempt to forcibly remount, call drive.mount(\"/content/drive\", force_remount=True).\n"
          ]
        }
      ]
    },
    {
      "cell_type": "code",
      "source": [
        "MODEL_DIR = '/content/drive/MyDrive/HeungEol/checkpoints (1)/08-11_060828_KoAlpaca_Dataset_v1.0_aloss2_lora3232_epoch3_bs8_maxlen_512_HeungEol_test_v2/checkpoints/epoch2 - loss0.1089'\n",
        "INDUCING = False"
      ],
      "metadata": {
        "id": "I778HT8uVBCH"
      },
      "execution_count": null,
      "outputs": []
    },
    {
      "cell_type": "code",
      "source": [
        "!pip install -q -U bitsandbytes\n",
        "!pip install -q -U git+https://github.com/huggingface/transformers.git\n",
        "!pip install -q -U git+https://github.com/huggingface/peft.git\n",
        "!pip install -q -U git+https://github.com/huggingface/accelerate.git\n",
        "!pip install -q datasets"
      ],
      "metadata": {
        "id": "o186Sm7Uef5V",
        "colab": {
          "base_uri": "https://localhost:8080/"
        },
        "outputId": "5f87a359-9367-4e88-8ead-dc7c3107a85d"
      },
      "execution_count": null,
      "outputs": [
        {
          "output_type": "stream",
          "name": "stdout",
          "text": [
            "  Installing build dependencies ... \u001b[?25l\u001b[?25hdone\n",
            "  Getting requirements to build wheel ... \u001b[?25l\u001b[?25hdone\n",
            "  Preparing metadata (pyproject.toml) ... \u001b[?25l\u001b[?25hdone\n",
            "  Installing build dependencies ... \u001b[?25l\u001b[?25hdone\n",
            "  Getting requirements to build wheel ... \u001b[?25l\u001b[?25hdone\n",
            "  Preparing metadata (pyproject.toml) ... \u001b[?25l\u001b[?25hdone\n",
            "  Installing build dependencies ... \u001b[?25l\u001b[?25hdone\n",
            "  Getting requirements to build wheel ... \u001b[?25l\u001b[?25hdone\n",
            "  Preparing metadata (pyproject.toml) ... \u001b[?25l\u001b[?25hdone\n"
          ]
        }
      ]
    },
    {
      "cell_type": "markdown",
      "source": [
        "#Load model & Some Samples"
      ],
      "metadata": {
        "id": "3VMmRftDdPOD"
      }
    },
    {
      "cell_type": "code",
      "source": [
        "!pip install numba\n",
        "\n",
        "from numba import cuda\n",
        "import torch\n",
        "device = cuda.get_current_device()\n",
        "device.reset()\n",
        "cuda.close()\n",
        "torch.cuda.is_available()"
      ],
      "metadata": {
        "colab": {
          "base_uri": "https://localhost:8080/"
        },
        "id": "xSbxTthujJeu",
        "outputId": "e529ad2d-8a71-4b79-eab4-88b53f46e072"
      },
      "execution_count": null,
      "outputs": [
        {
          "output_type": "stream",
          "name": "stdout",
          "text": [
            "Requirement already satisfied: numba in /usr/local/lib/python3.10/dist-packages (0.56.4)\n",
            "Requirement already satisfied: llvmlite<0.40,>=0.39.0dev0 in /usr/local/lib/python3.10/dist-packages (from numba) (0.39.1)\n",
            "Requirement already satisfied: numpy<1.24,>=1.18 in /usr/local/lib/python3.10/dist-packages (from numba) (1.23.5)\n",
            "Requirement already satisfied: setuptools in /usr/local/lib/python3.10/dist-packages (from numba) (67.7.2)\n"
          ]
        },
        {
          "output_type": "execute_result",
          "data": {
            "text/plain": [
              "True"
            ]
          },
          "metadata": {},
          "execution_count": 4
        }
      ]
    },
    {
      "cell_type": "code",
      "source": [
        "import torch\n",
        "\n",
        "from transformers import AutoTokenizer, AutoModelForCausalLM, BitsAndBytesConfig, pipeline"
      ],
      "metadata": {
        "id": "VgCKqAXMekYz"
      },
      "execution_count": null,
      "outputs": []
    },
    {
      "cell_type": "code",
      "source": [
        "from peft import PeftModel, PeftConfig"
      ],
      "metadata": {
        "id": "GlZv-twPerjy"
      },
      "execution_count": null,
      "outputs": []
    },
    {
      "cell_type": "code",
      "source": [
        "def load_peft_model(path):\n",
        "    peft_model_id = path\n",
        "    config = PeftConfig.from_pretrained(peft_model_id)\n",
        "    bnb_config = BitsAndBytesConfig(\n",
        "        load_in_4bit=True,\n",
        "        bnb_4bit_use_double_quant=True,\n",
        "        bnb_4bit_quant_type=\"nf4\",\n",
        "        bnb_4bit_compute_dtype=torch.bfloat16\n",
        "    )\n",
        "    model = AutoModelForCausalLM.from_pretrained(config.base_model_name_or_path, quantization_config=bnb_config, device_map={\"\":0})\n",
        "    model = PeftModel.from_pretrained(model, peft_model_id)\n",
        "    tokenizer = AutoTokenizer.from_pretrained(config.base_model_name_or_path)\n",
        "\n",
        "    model.eval()\n",
        "    return model, tokenizer"
      ],
      "metadata": {
        "id": "gYf0UQ3fetzP"
      },
      "execution_count": null,
      "outputs": []
    },
    {
      "cell_type": "code",
      "source": [
        "model, tokenizer = load_peft_model(MODEL_DIR)"
      ],
      "metadata": {
        "colab": {
          "base_uri": "https://localhost:8080/",
          "referenced_widgets": [
            "7ee39c2228604f88b681325860953fdf",
            "198b5e1b40584171a3f18431c6b62559",
            "a5e37d0c440c41eab208ae86778f0f4e",
            "824438d030c84db6be442e9932edc274",
            "d3aa0a1535884c8d968746228d4a9012",
            "fbaa6c5103f04ad6bb80682d1efca7fc",
            "14c11a94b58743d2b856dcbd8170672c",
            "fd70208538434f938dfe8bcdfcdc83e5",
            "fff7459f6f8541488ce8e5068101b338",
            "df710d7c1c5944b6ae3773582e75e642",
            "46d276f7888c46e98650e24e21dbfcfc"
          ]
        },
        "id": "3TX6x2ciS6-1",
        "outputId": "3e4724a0-5401-4253-a359-7675afe97f73"
      },
      "execution_count": null,
      "outputs": [
        {
          "output_type": "display_data",
          "data": {
            "text/plain": [
              "Loading checkpoint shards:   0%|          | 0/28 [00:00<?, ?it/s]"
            ],
            "application/vnd.jupyter.widget-view+json": {
              "version_major": 2,
              "version_minor": 0,
              "model_id": "7ee39c2228604f88b681325860953fdf"
            }
          },
          "metadata": {}
        }
      ]
    },
    {
      "cell_type": "code",
      "source": [
        "pipe = pipeline(\n",
        "    'text-generation',\n",
        "    model=model,\n",
        "    tokenizer=tokenizer\n",
        ")"
      ],
      "metadata": {
        "colab": {
          "base_uri": "https://localhost:8080/"
        },
        "id": "dSc6nLMsXZmW",
        "outputId": "8676ea9c-75be-4403-9263-91ad0981c7ac"
      },
      "execution_count": null,
      "outputs": [
        {
          "output_type": "stream",
          "name": "stderr",
          "text": [
            "The model 'PeftModelForCausalLM' is not supported for text-generation. Supported models are ['BartForCausalLM', 'BertLMHeadModel', 'BertGenerationDecoder', 'BigBirdForCausalLM', 'BigBirdPegasusForCausalLM', 'BioGptForCausalLM', 'BlenderbotForCausalLM', 'BlenderbotSmallForCausalLM', 'BloomForCausalLM', 'CamembertForCausalLM', 'CodeGenForCausalLM', 'CpmAntForCausalLM', 'CTRLLMHeadModel', 'Data2VecTextForCausalLM', 'ElectraForCausalLM', 'ErnieForCausalLM', 'FalconForCausalLM', 'GitForCausalLM', 'GPT2LMHeadModel', 'GPT2LMHeadModel', 'GPTBigCodeForCausalLM', 'GPTNeoForCausalLM', 'GPTNeoXForCausalLM', 'GPTNeoXJapaneseForCausalLM', 'GPTJForCausalLM', 'LlamaForCausalLM', 'MarianForCausalLM', 'MBartForCausalLM', 'MegaForCausalLM', 'MegatronBertForCausalLM', 'MptForCausalLM', 'MusicgenForCausalLM', 'MvpForCausalLM', 'OpenLlamaForCausalLM', 'OpenAIGPTLMHeadModel', 'OPTForCausalLM', 'PegasusForCausalLM', 'PLBartForCausalLM', 'ProphetNetForCausalLM', 'QDQBertLMHeadModel', 'ReformerModelWithLMHead', 'RemBertForCausalLM', 'RobertaForCausalLM', 'RobertaPreLayerNormForCausalLM', 'RoCBertForCausalLM', 'RoFormerForCausalLM', 'RwkvForCausalLM', 'Speech2Text2ForCausalLM', 'TransfoXLLMHeadModel', 'TrOCRForCausalLM', 'XGLMForCausalLM', 'XLMWithLMHeadModel', 'XLMProphetNetForCausalLM', 'XLMRobertaForCausalLM', 'XLMRobertaXLForCausalLM', 'XLNetLMHeadModel', 'XmodForCausalLM'].\n"
          ]
        }
      ]
    },
    {
      "cell_type": "code",
      "source": [
        "def gen(x):\n",
        "    instruction = \"다음 조건에 어울리는 가사를 생성하시오. 주어진 음절 수를 절대 벗어나지 말 것. 제목과 장르에 어울려야 할 것. 생성 형식은 ['가사 / 가사 / 가사 / 가사']와 같음.\"\n",
        "    gen_notes = x['gen_notes']\n",
        "    title = x['title']\n",
        "    genre = x['genre']\n",
        "    q = f\"### Instruction(명령어):\\n{instruction}\\n\\n### Input(입력):\\n음절 수는 [{gen_notes}], 제목은 [{title}], 장르는 [{genre}]이다.\\n\\n### Response(응답): \\n\"\n",
        "    print('input as follow:\\n' + q)\n",
        "\n",
        "    lyrics = pipe(\n",
        "        q,\n",
        "        do_sample=False,\n",
        "        max_new_tokens=300,\n",
        "        # temperature=0.5,\n",
        "        # top_p=0.5,\n",
        "        return_full_text=False,\n",
        "        eos_token_id=2\n",
        "    )\n",
        "    return lyrics[0]['generated_text']"
      ],
      "metadata": {
        "id": "0JBJKYJcfLuX"
      },
      "execution_count": null,
      "outputs": []
    },
    {
      "cell_type": "code",
      "source": [
        "import re\n",
        "\n",
        "def gen_induced(x):\n",
        "    instruction = \"다음 조건에 어울리는 가사를 생성하시오. 주어진 음절 수를 절대 벗어나지 말 것. 제목과 장르에 어울려야 할 것. 생성 형식은 [(음절)가사 / (음절)가사 / (음절)가사 / (음절)가사]와 같음.\"\n",
        "    gen_notes = x['gen_notes']\n",
        "    title = x['title']\n",
        "    genre = x['genre']\n",
        "    q = f\"### Instruction(명령어):\\n{instruction}\\n\\n### Input(입력):\\n음절 수는 [{gen_notes}], 제목은 [{title}], 장르는 [{genre}]이다.\\n\\n### Response(응답): \\n\"\n",
        "    print('input as follow:\\n' + q)\n",
        "\n",
        "    lyrics = pipe(\n",
        "        q,\n",
        "        do_sample=True,\n",
        "        max_new_tokens=300,\n",
        "        temperature=0.75,\n",
        "        top_p=0.5,\n",
        "        return_full_text=False,\n",
        "        eos_token_id=2\n",
        "    )\n",
        "\n",
        "    print(lyrics[0]['generated_text'])\n",
        "    return re.sub('\\([0-9]+\\)','',lyrics[0]['generated_text'])"
      ],
      "metadata": {
        "id": "RSKRldAgmU1I"
      },
      "execution_count": null,
      "outputs": []
    },
    {
      "cell_type": "code",
      "source": [
        "x1 = {'gen_notes': '3 / 5 / 3', 'title': '짜증나는 너', 'genre': '록/메탈'}\n",
        "x2 = {'gen_notes': '1 / 4 / 3 / 10 / 5 / 5 / 2 / 3 / 4', 'title': '너무 슬픈 날', 'genre': '발라드'}\n",
        "x3 = {'gen_notes': '2 / 5 / 3 / 1 /4', 'title': '뻔한 사랑 노래', 'genre': '발라드'}"
      ],
      "metadata": {
        "id": "zgcsVuSIU4M5"
      },
      "execution_count": null,
      "outputs": []
    },
    {
      "cell_type": "code",
      "source": [
        "if INDUCING:\n",
        "    lyrics1 = gen_induced(x1)\n",
        "    lyrics2 = gen_induced(x2)\n",
        "    lyrics3 = gen_induced(x3)\n",
        "else:\n",
        "    lyrics1 = gen(x1)\n",
        "    lyrics2 = gen(x2)\n",
        "    lyrics3 = gen(x3)"
      ],
      "metadata": {
        "colab": {
          "base_uri": "https://localhost:8080/"
        },
        "id": "55GdkP9afi6U",
        "outputId": "a2b08018-3e8e-423d-fd29-42fbc38608f6"
      },
      "execution_count": null,
      "outputs": [
        {
          "output_type": "stream",
          "name": "stderr",
          "text": [
            "Setting `pad_token_id` to `eos_token_id`:2 for open-end generation.\n"
          ]
        },
        {
          "output_type": "stream",
          "name": "stdout",
          "text": [
            "input as follow:\n",
            "### Instruction(명령어):\n",
            "다음 조건에 어울리는 가사를 생성하시오. 주어진 음절 수를 절대 벗어나지 말 것. 제목과 장르에 어울려야 할 것. 생성 형식은 ['가사 / 가사 / 가사 / 가사']와 같음.\n",
            "\n",
            "### Input(입력):\n",
            "음절 수는 [3 / 5 / 3], 제목은 [짜증나는 너], 장르는 [록/메탈]이다.\n",
            "\n",
            "### Response(응답): \n",
            "\n"
          ]
        },
        {
          "output_type": "stream",
          "name": "stderr",
          "text": [
            "Setting `pad_token_id` to `eos_token_id`:2 for open-end generation.\n"
          ]
        },
        {
          "output_type": "stream",
          "name": "stdout",
          "text": [
            "input as follow:\n",
            "### Instruction(명령어):\n",
            "다음 조건에 어울리는 가사를 생성하시오. 주어진 음절 수를 절대 벗어나지 말 것. 제목과 장르에 어울려야 할 것. 생성 형식은 ['가사 / 가사 / 가사 / 가사']와 같음.\n",
            "\n",
            "### Input(입력):\n",
            "음절 수는 [1 / 4 / 3 / 10 / 5 / 5 / 2 / 3 / 4], 제목은 [너무 슬픈 날], 장르는 [발라드]이다.\n",
            "\n",
            "### Response(응답): \n",
            "\n"
          ]
        },
        {
          "output_type": "stream",
          "name": "stderr",
          "text": [
            "Setting `pad_token_id` to `eos_token_id`:2 for open-end generation.\n"
          ]
        },
        {
          "output_type": "stream",
          "name": "stdout",
          "text": [
            "input as follow:\n",
            "### Instruction(명령어):\n",
            "다음 조건에 어울리는 가사를 생성하시오. 주어진 음절 수를 절대 벗어나지 말 것. 제목과 장르에 어울려야 할 것. 생성 형식은 ['가사 / 가사 / 가사 / 가사']와 같음.\n",
            "\n",
            "### Input(입력):\n",
            "음절 수는 [2 / 5 / 3 / 1 /4], 제목은 [뻔한 사랑 노래], 장르는 [발라드]이다.\n",
            "\n",
            "### Response(응답): \n",
            "\n"
          ]
        }
      ]
    },
    {
      "cell_type": "code",
      "source": [
        "lyrics1"
      ],
      "metadata": {
        "colab": {
          "base_uri": "https://localhost:8080/"
        },
        "id": "buioK3vRdlcD",
        "outputId": "245ff48f-dba3-47b1-ac5b-94e86d55dc3b"
      },
      "execution_count": null,
      "outputs": [
        {
          "output_type": "execute_result",
          "data": {
            "text/plain": [
              "'짜증나 / 짜증나는 너 / 짜증나'"
            ],
            "application/vnd.google.colaboratory.intrinsic+json": {
              "type": "string"
            }
          },
          "metadata": {},
          "execution_count": 14
        }
      ]
    },
    {
      "cell_type": "code",
      "source": [
        "lyrics2"
      ],
      "metadata": {
        "colab": {
          "base_uri": "https://localhost:8080/"
        },
        "id": "Gz9CQ0afejbB",
        "outputId": "d956eccd-bc97-41fc-c667-951fd6f20d74"
      },
      "execution_count": null,
      "outputs": [
        {
          "output_type": "execute_result",
          "data": {
            "text/plain": [
              "'내 / 마음까지 / 아프게 / 하는거야 / 너에게만은 / 너에게만은 / 너에게만은 / 너에게만은 / 너에게만은 / 너에게만은'"
            ],
            "application/vnd.google.colaboratory.intrinsic+json": {
              "type": "string"
            }
          },
          "metadata": {},
          "execution_count": 15
        }
      ]
    },
    {
      "cell_type": "code",
      "source": [
        "lyrics3"
      ],
      "metadata": {
        "colab": {
          "base_uri": "https://localhost:8080/"
        },
        "id": "MVcauoufW6sm",
        "outputId": "aca2d575-8fe8-47a5-e473-96fb816bf1c1"
      },
      "execution_count": null,
      "outputs": [
        {
          "output_type": "execute_result",
          "data": {
            "text/plain": [
              "'너를 / 사랑하니까 / 사랑해 / 널 / 사랑해'"
            ],
            "application/vnd.google.colaboratory.intrinsic+json": {
              "type": "string"
            }
          },
          "metadata": {},
          "execution_count": 16
        }
      ]
    },
    {
      "cell_type": "markdown",
      "source": [
        "#Make Evaluate Dataset\n",
        "훈련 corpus에 없었던 가사 데이터 및 2022.4월 이후의 가사들 중 다양한 장르에 대해 샘플링"
      ],
      "metadata": {
        "id": "FCdg1al0daNU"
      }
    },
    {
      "cell_type": "code",
      "source": [
        "import pandas as pd\n",
        "\n",
        "eval_df = pd.read_csv('./drive/MyDrive/HeungEol/eval_dataset.csv', encoding = 'utf-8-sig', index_col = 0)"
      ],
      "metadata": {
        "id": "3NhBdIjiOupb"
      },
      "execution_count": null,
      "outputs": []
    },
    {
      "cell_type": "code",
      "source": [
        "eval_df.syls = eval_df.syls.apply(eval)"
      ],
      "metadata": {
        "id": "uYB_RB_XPIFa"
      },
      "execution_count": null,
      "outputs": []
    },
    {
      "cell_type": "code",
      "source": [
        "eval_df"
      ],
      "metadata": {
        "colab": {
          "base_uri": "https://localhost:8080/"
        },
        "id": "-0X9cqM5O1OB",
        "outputId": "1b0d8428-7336-4d6e-8c79-d5e05cd0fc74"
      },
      "execution_count": null,
      "outputs": [
        {
          "output_type": "execute_result",
          "data": {
            "text/plain": [
              "                 title genre  \\\n",
              "0             헤어지자 말해요   발라드   \n",
              "1               모래 알갱이   트로트   \n",
              "2              부동의 첫사랑  인디음악   \n",
              "3        건물 사이에 피어난 장미  인디음악   \n",
              "4             잠깐 시간 될까  인디음악   \n",
              "5               운이 좋았지   발라드   \n",
              "6  그건 아마 우리의 잘못은 아닐 거야   R&B   \n",
              "7        지나간 여름을 안타까워마  인디음악   \n",
              "8                어떤 위로  록/메탈   \n",
              "9               주제는 사랑  록/메탈   \n",
              "\n",
              "                                     original_lyrics  \\\n",
              "0  헤어지자고 말하려 오늘\\n너에게 가다가 우리 추억 생각해 봤어\\n처음 본 네 얼굴\\...   \n",
              "1  나는 작은 바람에도 흩어질\\n나는 가벼운 모래 알갱이\\n그대 이 모래에 작은 발걸음...   \n",
              "2  주인공은 아니었지\\n누구의 시점에서도\\n그냥 스쳐 지나가거나\\n친구3이라거나\\n이름...   \n",
              "3  건물 사이에 피어난 장미\\n제발 살아남아 줬으면\\n꺾이지 마 잘 자라줘\\n온몸을 덮...   \n",
              "4  잠깐 시간 될까\\n만날 수 있을까\\n별일은 아니고 그냥 보고 싶어 그래\\n웃지 말고...   \n",
              "5  나는 운이 좋았지\\n다른 사람들은\\n그렇게 어려운 이별을 한다는데\\n나는 운이 좋았...   \n",
              "6  사실은 나도 잘 모르겠어\\n불안한 마음은 어디에서 태어나\\n우리에게까지 온 건지\\n...   \n",
              "7  내 여름을 너에게 맡길게\\n저 푸르른 잎도 언젠가는 녹슬어버리고\\n우릴 감싸는 이 ...   \n",
              "8  널 많이 좋아한다고\\n더 많이 말했어야 했는데\\n불안에 떨며 울먹이던 너\\n난 너를...   \n",
              "9  다른 말로 풀 수 없는\\n돌려 말하고 싶진 않은\\n헤맬 수밖에 없는\\n의미를 알고 ...   \n",
              "\n",
              "                                                syls  \n",
              "0  [6 / 9 / 8 / 7, 7 / 8 / 8 / 10 / 7 / 7 / 6 / 8...  \n",
              "1  [1 / 5 / 2 / 1, 1 / 8 / 7 / 4 / 9 / 2 / 6 / 10...  \n",
              "2  [10 / 4 / 8 / 5, 1 / 7 / 6 / 6 / 10 / 4 / 1 / ...  \n",
              "3  [1 / 6 / 7 / 5, 8 / 9 / 5 / 10 / 5 / 9 / 2 / 5...  \n",
              "4  [7 / 1 / 6 / 4, 10 / 4 / 7 / 6 / 4 / 5 / 9 / 2...  \n",
              "5  [6 / 1 / 9 / 6, 2 / 10 / 4 / 9 / 4 / 2 / 9 / 7...  \n",
              "6  [7 / 1 / 5 / 1, 2 / 6 / 5 / 9 / 4 / 1 / 9 / 9,...  \n",
              "7  [4 / 2 / 2 / 1, 9 / 1 / 6 / 2 / 7 / 4 / 2 / 8,...  \n",
              "8  [5 / 6 / 10 / 6, 10 / 9 / 1 / 4 / 5 / 4 / 9 / ...  \n",
              "9  [1 / 2 / 5 / 8, 5 / 8 / 9 / 1 / 6 / 6 / 2 / 6,...  "
            ],
            "text/html": [
              "\n",
              "  <div id=\"df-c381e0ce-cee1-401a-92c2-da783c24f3a5\" class=\"colab-df-container\">\n",
              "    <div>\n",
              "<style scoped>\n",
              "    .dataframe tbody tr th:only-of-type {\n",
              "        vertical-align: middle;\n",
              "    }\n",
              "\n",
              "    .dataframe tbody tr th {\n",
              "        vertical-align: top;\n",
              "    }\n",
              "\n",
              "    .dataframe thead th {\n",
              "        text-align: right;\n",
              "    }\n",
              "</style>\n",
              "<table border=\"1\" class=\"dataframe\">\n",
              "  <thead>\n",
              "    <tr style=\"text-align: right;\">\n",
              "      <th></th>\n",
              "      <th>title</th>\n",
              "      <th>genre</th>\n",
              "      <th>original_lyrics</th>\n",
              "      <th>syls</th>\n",
              "    </tr>\n",
              "  </thead>\n",
              "  <tbody>\n",
              "    <tr>\n",
              "      <th>0</th>\n",
              "      <td>헤어지자 말해요</td>\n",
              "      <td>발라드</td>\n",
              "      <td>헤어지자고 말하려 오늘\\n너에게 가다가 우리 추억 생각해 봤어\\n처음 본 네 얼굴\\...</td>\n",
              "      <td>[6 / 9 / 8 / 7, 7 / 8 / 8 / 10 / 7 / 7 / 6 / 8...</td>\n",
              "    </tr>\n",
              "    <tr>\n",
              "      <th>1</th>\n",
              "      <td>모래 알갱이</td>\n",
              "      <td>트로트</td>\n",
              "      <td>나는 작은 바람에도 흩어질\\n나는 가벼운 모래 알갱이\\n그대 이 모래에 작은 발걸음...</td>\n",
              "      <td>[1 / 5 / 2 / 1, 1 / 8 / 7 / 4 / 9 / 2 / 6 / 10...</td>\n",
              "    </tr>\n",
              "    <tr>\n",
              "      <th>2</th>\n",
              "      <td>부동의 첫사랑</td>\n",
              "      <td>인디음악</td>\n",
              "      <td>주인공은 아니었지\\n누구의 시점에서도\\n그냥 스쳐 지나가거나\\n친구3이라거나\\n이름...</td>\n",
              "      <td>[10 / 4 / 8 / 5, 1 / 7 / 6 / 6 / 10 / 4 / 1 / ...</td>\n",
              "    </tr>\n",
              "    <tr>\n",
              "      <th>3</th>\n",
              "      <td>건물 사이에 피어난 장미</td>\n",
              "      <td>인디음악</td>\n",
              "      <td>건물 사이에 피어난 장미\\n제발 살아남아 줬으면\\n꺾이지 마 잘 자라줘\\n온몸을 덮...</td>\n",
              "      <td>[1 / 6 / 7 / 5, 8 / 9 / 5 / 10 / 5 / 9 / 2 / 5...</td>\n",
              "    </tr>\n",
              "    <tr>\n",
              "      <th>4</th>\n",
              "      <td>잠깐 시간 될까</td>\n",
              "      <td>인디음악</td>\n",
              "      <td>잠깐 시간 될까\\n만날 수 있을까\\n별일은 아니고 그냥 보고 싶어 그래\\n웃지 말고...</td>\n",
              "      <td>[7 / 1 / 6 / 4, 10 / 4 / 7 / 6 / 4 / 5 / 9 / 2...</td>\n",
              "    </tr>\n",
              "    <tr>\n",
              "      <th>5</th>\n",
              "      <td>운이 좋았지</td>\n",
              "      <td>발라드</td>\n",
              "      <td>나는 운이 좋았지\\n다른 사람들은\\n그렇게 어려운 이별을 한다는데\\n나는 운이 좋았...</td>\n",
              "      <td>[6 / 1 / 9 / 6, 2 / 10 / 4 / 9 / 4 / 2 / 9 / 7...</td>\n",
              "    </tr>\n",
              "    <tr>\n",
              "      <th>6</th>\n",
              "      <td>그건 아마 우리의 잘못은 아닐 거야</td>\n",
              "      <td>R&amp;B</td>\n",
              "      <td>사실은 나도 잘 모르겠어\\n불안한 마음은 어디에서 태어나\\n우리에게까지 온 건지\\n...</td>\n",
              "      <td>[7 / 1 / 5 / 1, 2 / 6 / 5 / 9 / 4 / 1 / 9 / 9,...</td>\n",
              "    </tr>\n",
              "    <tr>\n",
              "      <th>7</th>\n",
              "      <td>지나간 여름을 안타까워마</td>\n",
              "      <td>인디음악</td>\n",
              "      <td>내 여름을 너에게 맡길게\\n저 푸르른 잎도 언젠가는 녹슬어버리고\\n우릴 감싸는 이 ...</td>\n",
              "      <td>[4 / 2 / 2 / 1, 9 / 1 / 6 / 2 / 7 / 4 / 2 / 8,...</td>\n",
              "    </tr>\n",
              "    <tr>\n",
              "      <th>8</th>\n",
              "      <td>어떤 위로</td>\n",
              "      <td>록/메탈</td>\n",
              "      <td>널 많이 좋아한다고\\n더 많이 말했어야 했는데\\n불안에 떨며 울먹이던 너\\n난 너를...</td>\n",
              "      <td>[5 / 6 / 10 / 6, 10 / 9 / 1 / 4 / 5 / 4 / 9 / ...</td>\n",
              "    </tr>\n",
              "    <tr>\n",
              "      <th>9</th>\n",
              "      <td>주제는 사랑</td>\n",
              "      <td>록/메탈</td>\n",
              "      <td>다른 말로 풀 수 없는\\n돌려 말하고 싶진 않은\\n헤맬 수밖에 없는\\n의미를 알고 ...</td>\n",
              "      <td>[1 / 2 / 5 / 8, 5 / 8 / 9 / 1 / 6 / 6 / 2 / 6,...</td>\n",
              "    </tr>\n",
              "  </tbody>\n",
              "</table>\n",
              "</div>\n",
              "    <div class=\"colab-df-buttons\">\n",
              "\n",
              "  <div class=\"colab-df-container\">\n",
              "    <button class=\"colab-df-convert\" onclick=\"convertToInteractive('df-c381e0ce-cee1-401a-92c2-da783c24f3a5')\"\n",
              "            title=\"Convert this dataframe to an interactive table.\"\n",
              "            style=\"display:none;\">\n",
              "\n",
              "  <svg xmlns=\"http://www.w3.org/2000/svg\" height=\"24px\" viewBox=\"0 -960 960 960\">\n",
              "    <path d=\"M120-120v-720h720v720H120Zm60-500h600v-160H180v160Zm220 220h160v-160H400v160Zm0 220h160v-160H400v160ZM180-400h160v-160H180v160Zm440 0h160v-160H620v160ZM180-180h160v-160H180v160Zm440 0h160v-160H620v160Z\"/>\n",
              "  </svg>\n",
              "    </button>\n",
              "\n",
              "  <style>\n",
              "    .colab-df-container {\n",
              "      display:flex;\n",
              "      gap: 12px;\n",
              "    }\n",
              "\n",
              "    .colab-df-convert {\n",
              "      background-color: #E8F0FE;\n",
              "      border: none;\n",
              "      border-radius: 50%;\n",
              "      cursor: pointer;\n",
              "      display: none;\n",
              "      fill: #1967D2;\n",
              "      height: 32px;\n",
              "      padding: 0 0 0 0;\n",
              "      width: 32px;\n",
              "    }\n",
              "\n",
              "    .colab-df-convert:hover {\n",
              "      background-color: #E2EBFA;\n",
              "      box-shadow: 0px 1px 2px rgba(60, 64, 67, 0.3), 0px 1px 3px 1px rgba(60, 64, 67, 0.15);\n",
              "      fill: #174EA6;\n",
              "    }\n",
              "\n",
              "    .colab-df-buttons div {\n",
              "      margin-bottom: 4px;\n",
              "    }\n",
              "\n",
              "    [theme=dark] .colab-df-convert {\n",
              "      background-color: #3B4455;\n",
              "      fill: #D2E3FC;\n",
              "    }\n",
              "\n",
              "    [theme=dark] .colab-df-convert:hover {\n",
              "      background-color: #434B5C;\n",
              "      box-shadow: 0px 1px 3px 1px rgba(0, 0, 0, 0.15);\n",
              "      filter: drop-shadow(0px 1px 2px rgba(0, 0, 0, 0.3));\n",
              "      fill: #FFFFFF;\n",
              "    }\n",
              "  </style>\n",
              "\n",
              "    <script>\n",
              "      const buttonEl =\n",
              "        document.querySelector('#df-c381e0ce-cee1-401a-92c2-da783c24f3a5 button.colab-df-convert');\n",
              "      buttonEl.style.display =\n",
              "        google.colab.kernel.accessAllowed ? 'block' : 'none';\n",
              "\n",
              "      async function convertToInteractive(key) {\n",
              "        const element = document.querySelector('#df-c381e0ce-cee1-401a-92c2-da783c24f3a5');\n",
              "        const dataTable =\n",
              "          await google.colab.kernel.invokeFunction('convertToInteractive',\n",
              "                                                    [key], {});\n",
              "        if (!dataTable) return;\n",
              "\n",
              "        const docLinkHtml = 'Like what you see? Visit the ' +\n",
              "          '<a target=\"_blank\" href=https://colab.research.google.com/notebooks/data_table.ipynb>data table notebook</a>'\n",
              "          + ' to learn more about interactive tables.';\n",
              "        element.innerHTML = '';\n",
              "        dataTable['output_type'] = 'display_data';\n",
              "        await google.colab.output.renderOutput(dataTable, element);\n",
              "        const docLink = document.createElement('div');\n",
              "        docLink.innerHTML = docLinkHtml;\n",
              "        element.appendChild(docLink);\n",
              "      }\n",
              "    </script>\n",
              "  </div>\n",
              "\n",
              "\n",
              "<div id=\"df-05892223-4108-4b7f-8644-ca3a72d75b7b\">\n",
              "  <button class=\"colab-df-quickchart\" onclick=\"quickchart('df-05892223-4108-4b7f-8644-ca3a72d75b7b')\"\n",
              "            title=\"Suggest charts.\"\n",
              "            style=\"display:none;\">\n",
              "\n",
              "<svg xmlns=\"http://www.w3.org/2000/svg\" height=\"24px\"viewBox=\"0 0 24 24\"\n",
              "     width=\"24px\">\n",
              "    <g>\n",
              "        <path d=\"M19 3H5c-1.1 0-2 .9-2 2v14c0 1.1.9 2 2 2h14c1.1 0 2-.9 2-2V5c0-1.1-.9-2-2-2zM9 17H7v-7h2v7zm4 0h-2V7h2v10zm4 0h-2v-4h2v4z\"/>\n",
              "    </g>\n",
              "</svg>\n",
              "  </button>\n",
              "\n",
              "<style>\n",
              "  .colab-df-quickchart {\n",
              "    background-color: #E8F0FE;\n",
              "    border: none;\n",
              "    border-radius: 50%;\n",
              "    cursor: pointer;\n",
              "    display: none;\n",
              "    fill: #1967D2;\n",
              "    height: 32px;\n",
              "    padding: 0 0 0 0;\n",
              "    width: 32px;\n",
              "  }\n",
              "\n",
              "  .colab-df-quickchart:hover {\n",
              "    background-color: #E2EBFA;\n",
              "    box-shadow: 0px 1px 2px rgba(60, 64, 67, 0.3), 0px 1px 3px 1px rgba(60, 64, 67, 0.15);\n",
              "    fill: #174EA6;\n",
              "  }\n",
              "\n",
              "  [theme=dark] .colab-df-quickchart {\n",
              "    background-color: #3B4455;\n",
              "    fill: #D2E3FC;\n",
              "  }\n",
              "\n",
              "  [theme=dark] .colab-df-quickchart:hover {\n",
              "    background-color: #434B5C;\n",
              "    box-shadow: 0px 1px 3px 1px rgba(0, 0, 0, 0.15);\n",
              "    filter: drop-shadow(0px 1px 2px rgba(0, 0, 0, 0.3));\n",
              "    fill: #FFFFFF;\n",
              "  }\n",
              "</style>\n",
              "\n",
              "  <script>\n",
              "    async function quickchart(key) {\n",
              "      const charts = await google.colab.kernel.invokeFunction(\n",
              "          'suggestCharts', [key], {});\n",
              "    }\n",
              "    (() => {\n",
              "      let quickchartButtonEl =\n",
              "        document.querySelector('#df-05892223-4108-4b7f-8644-ca3a72d75b7b button');\n",
              "      quickchartButtonEl.style.display =\n",
              "        google.colab.kernel.accessAllowed ? 'block' : 'none';\n",
              "    })();\n",
              "  </script>\n",
              "</div>\n",
              "    </div>\n",
              "  </div>\n"
            ]
          },
          "metadata": {},
          "execution_count": 19
        }
      ]
    },
    {
      "cell_type": "code",
      "source": [
        "generated_lines = [[gen_induced({'gen_notes':gen_notes, 'title':row['title'], 'genre':row['genre']}) if INDUCING else gen({'gen_notes':gen_notes, 'title':row['title'], 'genre':row['genre']}) for gen_notes in row['syls']] for idx, row in eval_df.iterrows()]"
      ],
      "metadata": {
        "colab": {
          "base_uri": "https://localhost:8080/"
        },
        "id": "bLje6uC7kp4t",
        "outputId": "7d6d42d1-c026-4c87-8d62-5aae32aec90e"
      },
      "execution_count": null,
      "outputs": [
        {
          "output_type": "stream",
          "name": "stderr",
          "text": [
            "Setting `pad_token_id` to `eos_token_id`:2 for open-end generation.\n"
          ]
        },
        {
          "output_type": "stream",
          "name": "stdout",
          "text": [
            "input as follow:\n",
            "### Instruction(명령어):\n",
            "다음 조건에 어울리는 가사를 생성하시오. 주어진 음절 수를 절대 벗어나지 말 것. 제목과 장르에 어울려야 할 것. 생성 형식은 ['가사 / 가사 / 가사 / 가사']와 같음.\n",
            "\n",
            "### Input(입력):\n",
            "음절 수는 [6 / 9 / 8 / 7], 제목은 [헤어지자 말해요], 장르는 [발라드]이다.\n",
            "\n",
            "### Response(응답): \n",
            "\n"
          ]
        },
        {
          "output_type": "stream",
          "name": "stderr",
          "text": [
            "Setting `pad_token_id` to `eos_token_id`:2 for open-end generation.\n"
          ]
        },
        {
          "output_type": "stream",
          "name": "stdout",
          "text": [
            "input as follow:\n",
            "### Instruction(명령어):\n",
            "다음 조건에 어울리는 가사를 생성하시오. 주어진 음절 수를 절대 벗어나지 말 것. 제목과 장르에 어울려야 할 것. 생성 형식은 ['가사 / 가사 / 가사 / 가사']와 같음.\n",
            "\n",
            "### Input(입력):\n",
            "음절 수는 [7 / 8 / 8 / 10 / 7 / 7 / 6 / 8], 제목은 [헤어지자 말해요], 장르는 [발라드]이다.\n",
            "\n",
            "### Response(응답): \n",
            "\n"
          ]
        },
        {
          "output_type": "stream",
          "name": "stderr",
          "text": [
            "Setting `pad_token_id` to `eos_token_id`:2 for open-end generation.\n"
          ]
        },
        {
          "output_type": "stream",
          "name": "stdout",
          "text": [
            "input as follow:\n",
            "### Instruction(명령어):\n",
            "다음 조건에 어울리는 가사를 생성하시오. 주어진 음절 수를 절대 벗어나지 말 것. 제목과 장르에 어울려야 할 것. 생성 형식은 ['가사 / 가사 / 가사 / 가사']와 같음.\n",
            "\n",
            "### Input(입력):\n",
            "음절 수는 [5 / 9 / 6 / 7 / 8 / 2 / 10 / 7 / 1 / 8 / 10 / 6], 제목은 [헤어지자 말해요], 장르는 [발라드]이다.\n",
            "\n",
            "### Response(응답): \n",
            "\n"
          ]
        },
        {
          "output_type": "stream",
          "name": "stderr",
          "text": [
            "Setting `pad_token_id` to `eos_token_id`:2 for open-end generation.\n"
          ]
        },
        {
          "output_type": "stream",
          "name": "stdout",
          "text": [
            "input as follow:\n",
            "### Instruction(명령어):\n",
            "다음 조건에 어울리는 가사를 생성하시오. 주어진 음절 수를 절대 벗어나지 말 것. 제목과 장르에 어울려야 할 것. 생성 형식은 ['가사 / 가사 / 가사 / 가사']와 같음.\n",
            "\n",
            "### Input(입력):\n",
            "음절 수는 [1 / 5 / 2 / 1], 제목은 [모래 알갱이], 장르는 [트로트]이다.\n",
            "\n",
            "### Response(응답): \n",
            "\n"
          ]
        },
        {
          "output_type": "stream",
          "name": "stderr",
          "text": [
            "Setting `pad_token_id` to `eos_token_id`:2 for open-end generation.\n"
          ]
        },
        {
          "output_type": "stream",
          "name": "stdout",
          "text": [
            "input as follow:\n",
            "### Instruction(명령어):\n",
            "다음 조건에 어울리는 가사를 생성하시오. 주어진 음절 수를 절대 벗어나지 말 것. 제목과 장르에 어울려야 할 것. 생성 형식은 ['가사 / 가사 / 가사 / 가사']와 같음.\n",
            "\n",
            "### Input(입력):\n",
            "음절 수는 [1 / 8 / 7 / 4 / 9 / 2 / 6 / 10], 제목은 [모래 알갱이], 장르는 [트로트]이다.\n",
            "\n",
            "### Response(응답): \n",
            "\n"
          ]
        },
        {
          "output_type": "stream",
          "name": "stderr",
          "text": [
            "Setting `pad_token_id` to `eos_token_id`:2 for open-end generation.\n"
          ]
        },
        {
          "output_type": "stream",
          "name": "stdout",
          "text": [
            "input as follow:\n",
            "### Instruction(명령어):\n",
            "다음 조건에 어울리는 가사를 생성하시오. 주어진 음절 수를 절대 벗어나지 말 것. 제목과 장르에 어울려야 할 것. 생성 형식은 ['가사 / 가사 / 가사 / 가사']와 같음.\n",
            "\n",
            "### Input(입력):\n",
            "음절 수는 [5 / 2 / 1 / 2 / 7 / 1 / 8 / 9 / 8 / 8 / 4 / 9], 제목은 [모래 알갱이], 장르는 [트로트]이다.\n",
            "\n",
            "### Response(응답): \n",
            "\n"
          ]
        },
        {
          "output_type": "stream",
          "name": "stderr",
          "text": [
            "Setting `pad_token_id` to `eos_token_id`:2 for open-end generation.\n"
          ]
        },
        {
          "output_type": "stream",
          "name": "stdout",
          "text": [
            "input as follow:\n",
            "### Instruction(명령어):\n",
            "다음 조건에 어울리는 가사를 생성하시오. 주어진 음절 수를 절대 벗어나지 말 것. 제목과 장르에 어울려야 할 것. 생성 형식은 ['가사 / 가사 / 가사 / 가사']와 같음.\n",
            "\n",
            "### Input(입력):\n",
            "음절 수는 [10 / 4 / 8 / 5], 제목은 [부동의 첫사랑], 장르는 [인디음악]이다.\n",
            "\n",
            "### Response(응답): \n",
            "\n"
          ]
        },
        {
          "output_type": "stream",
          "name": "stderr",
          "text": [
            "/usr/local/lib/python3.10/dist-packages/transformers/pipelines/base.py:1090: UserWarning: You seem to be using the pipelines sequentially on GPU. In order to maximize efficiency please use a dataset\n",
            "  warnings.warn(\n",
            "Setting `pad_token_id` to `eos_token_id`:2 for open-end generation.\n"
          ]
        },
        {
          "output_type": "stream",
          "name": "stdout",
          "text": [
            "input as follow:\n",
            "### Instruction(명령어):\n",
            "다음 조건에 어울리는 가사를 생성하시오. 주어진 음절 수를 절대 벗어나지 말 것. 제목과 장르에 어울려야 할 것. 생성 형식은 ['가사 / 가사 / 가사 / 가사']와 같음.\n",
            "\n",
            "### Input(입력):\n",
            "음절 수는 [1 / 7 / 6 / 6 / 10 / 4 / 1 / 4], 제목은 [부동의 첫사랑], 장르는 [인디음악]이다.\n",
            "\n",
            "### Response(응답): \n",
            "\n"
          ]
        },
        {
          "output_type": "stream",
          "name": "stderr",
          "text": [
            "Setting `pad_token_id` to `eos_token_id`:2 for open-end generation.\n"
          ]
        },
        {
          "output_type": "stream",
          "name": "stdout",
          "text": [
            "input as follow:\n",
            "### Instruction(명령어):\n",
            "다음 조건에 어울리는 가사를 생성하시오. 주어진 음절 수를 절대 벗어나지 말 것. 제목과 장르에 어울려야 할 것. 생성 형식은 ['가사 / 가사 / 가사 / 가사']와 같음.\n",
            "\n",
            "### Input(입력):\n",
            "음절 수는 [2 / 1 / 6 / 1 / 1 / 4 / 1 / 1 / 3 / 4 / 5 / 8], 제목은 [부동의 첫사랑], 장르는 [인디음악]이다.\n",
            "\n",
            "### Response(응답): \n",
            "\n"
          ]
        },
        {
          "output_type": "stream",
          "name": "stderr",
          "text": [
            "Setting `pad_token_id` to `eos_token_id`:2 for open-end generation.\n"
          ]
        },
        {
          "output_type": "stream",
          "name": "stdout",
          "text": [
            "input as follow:\n",
            "### Instruction(명령어):\n",
            "다음 조건에 어울리는 가사를 생성하시오. 주어진 음절 수를 절대 벗어나지 말 것. 제목과 장르에 어울려야 할 것. 생성 형식은 ['가사 / 가사 / 가사 / 가사']와 같음.\n",
            "\n",
            "### Input(입력):\n",
            "음절 수는 [1 / 6 / 7 / 5], 제목은 [건물 사이에 피어난 장미], 장르는 [인디음악]이다.\n",
            "\n",
            "### Response(응답): \n",
            "\n"
          ]
        },
        {
          "output_type": "stream",
          "name": "stderr",
          "text": [
            "Setting `pad_token_id` to `eos_token_id`:2 for open-end generation.\n"
          ]
        },
        {
          "output_type": "stream",
          "name": "stdout",
          "text": [
            "input as follow:\n",
            "### Instruction(명령어):\n",
            "다음 조건에 어울리는 가사를 생성하시오. 주어진 음절 수를 절대 벗어나지 말 것. 제목과 장르에 어울려야 할 것. 생성 형식은 ['가사 / 가사 / 가사 / 가사']와 같음.\n",
            "\n",
            "### Input(입력):\n",
            "음절 수는 [8 / 9 / 5 / 10 / 5 / 9 / 2 / 5], 제목은 [건물 사이에 피어난 장미], 장르는 [인디음악]이다.\n",
            "\n",
            "### Response(응답): \n",
            "\n"
          ]
        },
        {
          "output_type": "stream",
          "name": "stderr",
          "text": [
            "Setting `pad_token_id` to `eos_token_id`:2 for open-end generation.\n"
          ]
        },
        {
          "output_type": "stream",
          "name": "stdout",
          "text": [
            "input as follow:\n",
            "### Instruction(명령어):\n",
            "다음 조건에 어울리는 가사를 생성하시오. 주어진 음절 수를 절대 벗어나지 말 것. 제목과 장르에 어울려야 할 것. 생성 형식은 ['가사 / 가사 / 가사 / 가사']와 같음.\n",
            "\n",
            "### Input(입력):\n",
            "음절 수는 [2 / 1 / 7 / 6 / 5 / 5 / 6 / 5 / 5 / 5 / 6 / 3], 제목은 [건물 사이에 피어난 장미], 장르는 [인디음악]이다.\n",
            "\n",
            "### Response(응답): \n",
            "\n"
          ]
        },
        {
          "output_type": "stream",
          "name": "stderr",
          "text": [
            "Setting `pad_token_id` to `eos_token_id`:2 for open-end generation.\n"
          ]
        },
        {
          "output_type": "stream",
          "name": "stdout",
          "text": [
            "input as follow:\n",
            "### Instruction(명령어):\n",
            "다음 조건에 어울리는 가사를 생성하시오. 주어진 음절 수를 절대 벗어나지 말 것. 제목과 장르에 어울려야 할 것. 생성 형식은 ['가사 / 가사 / 가사 / 가사']와 같음.\n",
            "\n",
            "### Input(입력):\n",
            "음절 수는 [7 / 1 / 6 / 4], 제목은 [잠깐 시간 될까], 장르는 [인디음악]이다.\n",
            "\n",
            "### Response(응답): \n",
            "\n"
          ]
        },
        {
          "output_type": "stream",
          "name": "stderr",
          "text": [
            "Setting `pad_token_id` to `eos_token_id`:2 for open-end generation.\n"
          ]
        },
        {
          "output_type": "stream",
          "name": "stdout",
          "text": [
            "input as follow:\n",
            "### Instruction(명령어):\n",
            "다음 조건에 어울리는 가사를 생성하시오. 주어진 음절 수를 절대 벗어나지 말 것. 제목과 장르에 어울려야 할 것. 생성 형식은 ['가사 / 가사 / 가사 / 가사']와 같음.\n",
            "\n",
            "### Input(입력):\n",
            "음절 수는 [10 / 4 / 7 / 6 / 4 / 5 / 9 / 2], 제목은 [잠깐 시간 될까], 장르는 [인디음악]이다.\n",
            "\n",
            "### Response(응답): \n",
            "\n"
          ]
        },
        {
          "output_type": "stream",
          "name": "stderr",
          "text": [
            "Setting `pad_token_id` to `eos_token_id`:2 for open-end generation.\n"
          ]
        },
        {
          "output_type": "stream",
          "name": "stdout",
          "text": [
            "input as follow:\n",
            "### Instruction(명령어):\n",
            "다음 조건에 어울리는 가사를 생성하시오. 주어진 음절 수를 절대 벗어나지 말 것. 제목과 장르에 어울려야 할 것. 생성 형식은 ['가사 / 가사 / 가사 / 가사']와 같음.\n",
            "\n",
            "### Input(입력):\n",
            "음절 수는 [9 / 8 / 6 / 2 / 5 / 5 / 8 / 2 / 7 / 8 / 4 / 1], 제목은 [잠깐 시간 될까], 장르는 [인디음악]이다.\n",
            "\n",
            "### Response(응답): \n",
            "\n"
          ]
        },
        {
          "output_type": "stream",
          "name": "stderr",
          "text": [
            "Setting `pad_token_id` to `eos_token_id`:2 for open-end generation.\n"
          ]
        },
        {
          "output_type": "stream",
          "name": "stdout",
          "text": [
            "input as follow:\n",
            "### Instruction(명령어):\n",
            "다음 조건에 어울리는 가사를 생성하시오. 주어진 음절 수를 절대 벗어나지 말 것. 제목과 장르에 어울려야 할 것. 생성 형식은 ['가사 / 가사 / 가사 / 가사']와 같음.\n",
            "\n",
            "### Input(입력):\n",
            "음절 수는 [6 / 1 / 9 / 6], 제목은 [운이 좋았지], 장르는 [발라드]이다.\n",
            "\n",
            "### Response(응답): \n",
            "\n"
          ]
        },
        {
          "output_type": "stream",
          "name": "stderr",
          "text": [
            "Setting `pad_token_id` to `eos_token_id`:2 for open-end generation.\n"
          ]
        },
        {
          "output_type": "stream",
          "name": "stdout",
          "text": [
            "input as follow:\n",
            "### Instruction(명령어):\n",
            "다음 조건에 어울리는 가사를 생성하시오. 주어진 음절 수를 절대 벗어나지 말 것. 제목과 장르에 어울려야 할 것. 생성 형식은 ['가사 / 가사 / 가사 / 가사']와 같음.\n",
            "\n",
            "### Input(입력):\n",
            "음절 수는 [2 / 10 / 4 / 9 / 4 / 2 / 9 / 7], 제목은 [운이 좋았지], 장르는 [발라드]이다.\n",
            "\n",
            "### Response(응답): \n",
            "\n"
          ]
        },
        {
          "output_type": "stream",
          "name": "stderr",
          "text": [
            "Setting `pad_token_id` to `eos_token_id`:2 for open-end generation.\n"
          ]
        },
        {
          "output_type": "stream",
          "name": "stdout",
          "text": [
            "input as follow:\n",
            "### Instruction(명령어):\n",
            "다음 조건에 어울리는 가사를 생성하시오. 주어진 음절 수를 절대 벗어나지 말 것. 제목과 장르에 어울려야 할 것. 생성 형식은 ['가사 / 가사 / 가사 / 가사']와 같음.\n",
            "\n",
            "### Input(입력):\n",
            "음절 수는 [1 / 2 / 3 / 10 / 10 / 7 / 2 / 10 / 5 / 2 / 6 / 2], 제목은 [운이 좋았지], 장르는 [발라드]이다.\n",
            "\n",
            "### Response(응답): \n",
            "\n"
          ]
        },
        {
          "output_type": "stream",
          "name": "stderr",
          "text": [
            "Setting `pad_token_id` to `eos_token_id`:2 for open-end generation.\n"
          ]
        },
        {
          "output_type": "stream",
          "name": "stdout",
          "text": [
            "input as follow:\n",
            "### Instruction(명령어):\n",
            "다음 조건에 어울리는 가사를 생성하시오. 주어진 음절 수를 절대 벗어나지 말 것. 제목과 장르에 어울려야 할 것. 생성 형식은 ['가사 / 가사 / 가사 / 가사']와 같음.\n",
            "\n",
            "### Input(입력):\n",
            "음절 수는 [7 / 1 / 5 / 1], 제목은 [그건 아마 우리의 잘못은 아닐 거야], 장르는 [R&B]이다.\n",
            "\n",
            "### Response(응답): \n",
            "\n"
          ]
        },
        {
          "output_type": "stream",
          "name": "stderr",
          "text": [
            "Setting `pad_token_id` to `eos_token_id`:2 for open-end generation.\n"
          ]
        },
        {
          "output_type": "stream",
          "name": "stdout",
          "text": [
            "input as follow:\n",
            "### Instruction(명령어):\n",
            "다음 조건에 어울리는 가사를 생성하시오. 주어진 음절 수를 절대 벗어나지 말 것. 제목과 장르에 어울려야 할 것. 생성 형식은 ['가사 / 가사 / 가사 / 가사']와 같음.\n",
            "\n",
            "### Input(입력):\n",
            "음절 수는 [2 / 6 / 5 / 9 / 4 / 1 / 9 / 9], 제목은 [그건 아마 우리의 잘못은 아닐 거야], 장르는 [R&B]이다.\n",
            "\n",
            "### Response(응답): \n",
            "\n"
          ]
        },
        {
          "output_type": "stream",
          "name": "stderr",
          "text": [
            "Setting `pad_token_id` to `eos_token_id`:2 for open-end generation.\n"
          ]
        },
        {
          "output_type": "stream",
          "name": "stdout",
          "text": [
            "input as follow:\n",
            "### Instruction(명령어):\n",
            "다음 조건에 어울리는 가사를 생성하시오. 주어진 음절 수를 절대 벗어나지 말 것. 제목과 장르에 어울려야 할 것. 생성 형식은 ['가사 / 가사 / 가사 / 가사']와 같음.\n",
            "\n",
            "### Input(입력):\n",
            "음절 수는 [3 / 7 / 4 / 1 / 1 / 3 / 4 / 4 / 2 / 7 / 6 / 9], 제목은 [그건 아마 우리의 잘못은 아닐 거야], 장르는 [R&B]이다.\n",
            "\n",
            "### Response(응답): \n",
            "\n"
          ]
        },
        {
          "output_type": "stream",
          "name": "stderr",
          "text": [
            "Setting `pad_token_id` to `eos_token_id`:2 for open-end generation.\n"
          ]
        },
        {
          "output_type": "stream",
          "name": "stdout",
          "text": [
            "input as follow:\n",
            "### Instruction(명령어):\n",
            "다음 조건에 어울리는 가사를 생성하시오. 주어진 음절 수를 절대 벗어나지 말 것. 제목과 장르에 어울려야 할 것. 생성 형식은 ['가사 / 가사 / 가사 / 가사']와 같음.\n",
            "\n",
            "### Input(입력):\n",
            "음절 수는 [4 / 2 / 2 / 1], 제목은 [지나간 여름을 안타까워마], 장르는 [인디음악]이다.\n",
            "\n",
            "### Response(응답): \n",
            "\n"
          ]
        },
        {
          "output_type": "stream",
          "name": "stderr",
          "text": [
            "Setting `pad_token_id` to `eos_token_id`:2 for open-end generation.\n"
          ]
        },
        {
          "output_type": "stream",
          "name": "stdout",
          "text": [
            "input as follow:\n",
            "### Instruction(명령어):\n",
            "다음 조건에 어울리는 가사를 생성하시오. 주어진 음절 수를 절대 벗어나지 말 것. 제목과 장르에 어울려야 할 것. 생성 형식은 ['가사 / 가사 / 가사 / 가사']와 같음.\n",
            "\n",
            "### Input(입력):\n",
            "음절 수는 [9 / 1 / 6 / 2 / 7 / 4 / 2 / 8], 제목은 [지나간 여름을 안타까워마], 장르는 [인디음악]이다.\n",
            "\n",
            "### Response(응답): \n",
            "\n"
          ]
        },
        {
          "output_type": "stream",
          "name": "stderr",
          "text": [
            "Setting `pad_token_id` to `eos_token_id`:2 for open-end generation.\n"
          ]
        },
        {
          "output_type": "stream",
          "name": "stdout",
          "text": [
            "input as follow:\n",
            "### Instruction(명령어):\n",
            "다음 조건에 어울리는 가사를 생성하시오. 주어진 음절 수를 절대 벗어나지 말 것. 제목과 장르에 어울려야 할 것. 생성 형식은 ['가사 / 가사 / 가사 / 가사']와 같음.\n",
            "\n",
            "### Input(입력):\n",
            "음절 수는 [6 / 6 / 2 / 7 / 5 / 5 / 3 / 4 / 3 / 4 / 1 / 10], 제목은 [지나간 여름을 안타까워마], 장르는 [인디음악]이다.\n",
            "\n",
            "### Response(응답): \n",
            "\n"
          ]
        },
        {
          "output_type": "stream",
          "name": "stderr",
          "text": [
            "Setting `pad_token_id` to `eos_token_id`:2 for open-end generation.\n"
          ]
        },
        {
          "output_type": "stream",
          "name": "stdout",
          "text": [
            "input as follow:\n",
            "### Instruction(명령어):\n",
            "다음 조건에 어울리는 가사를 생성하시오. 주어진 음절 수를 절대 벗어나지 말 것. 제목과 장르에 어울려야 할 것. 생성 형식은 ['가사 / 가사 / 가사 / 가사']와 같음.\n",
            "\n",
            "### Input(입력):\n",
            "음절 수는 [5 / 6 / 10 / 6], 제목은 [어떤 위로], 장르는 [록/메탈]이다.\n",
            "\n",
            "### Response(응답): \n",
            "\n"
          ]
        },
        {
          "output_type": "stream",
          "name": "stderr",
          "text": [
            "Setting `pad_token_id` to `eos_token_id`:2 for open-end generation.\n"
          ]
        },
        {
          "output_type": "stream",
          "name": "stdout",
          "text": [
            "input as follow:\n",
            "### Instruction(명령어):\n",
            "다음 조건에 어울리는 가사를 생성하시오. 주어진 음절 수를 절대 벗어나지 말 것. 제목과 장르에 어울려야 할 것. 생성 형식은 ['가사 / 가사 / 가사 / 가사']와 같음.\n",
            "\n",
            "### Input(입력):\n",
            "음절 수는 [10 / 9 / 1 / 4 / 5 / 4 / 9 / 4], 제목은 [어떤 위로], 장르는 [록/메탈]이다.\n",
            "\n",
            "### Response(응답): \n",
            "\n"
          ]
        },
        {
          "output_type": "stream",
          "name": "stderr",
          "text": [
            "Setting `pad_token_id` to `eos_token_id`:2 for open-end generation.\n"
          ]
        },
        {
          "output_type": "stream",
          "name": "stdout",
          "text": [
            "input as follow:\n",
            "### Instruction(명령어):\n",
            "다음 조건에 어울리는 가사를 생성하시오. 주어진 음절 수를 절대 벗어나지 말 것. 제목과 장르에 어울려야 할 것. 생성 형식은 ['가사 / 가사 / 가사 / 가사']와 같음.\n",
            "\n",
            "### Input(입력):\n",
            "음절 수는 [6 / 1 / 9 / 2 / 10 / 7 / 8 / 10 / 10 / 9 / 9 / 1], 제목은 [어떤 위로], 장르는 [록/메탈]이다.\n",
            "\n",
            "### Response(응답): \n",
            "\n"
          ]
        },
        {
          "output_type": "stream",
          "name": "stderr",
          "text": [
            "Setting `pad_token_id` to `eos_token_id`:2 for open-end generation.\n"
          ]
        },
        {
          "output_type": "stream",
          "name": "stdout",
          "text": [
            "input as follow:\n",
            "### Instruction(명령어):\n",
            "다음 조건에 어울리는 가사를 생성하시오. 주어진 음절 수를 절대 벗어나지 말 것. 제목과 장르에 어울려야 할 것. 생성 형식은 ['가사 / 가사 / 가사 / 가사']와 같음.\n",
            "\n",
            "### Input(입력):\n",
            "음절 수는 [1 / 2 / 5 / 8], 제목은 [주제는 사랑], 장르는 [록/메탈]이다.\n",
            "\n",
            "### Response(응답): \n",
            "\n"
          ]
        },
        {
          "output_type": "stream",
          "name": "stderr",
          "text": [
            "Setting `pad_token_id` to `eos_token_id`:2 for open-end generation.\n"
          ]
        },
        {
          "output_type": "stream",
          "name": "stdout",
          "text": [
            "input as follow:\n",
            "### Instruction(명령어):\n",
            "다음 조건에 어울리는 가사를 생성하시오. 주어진 음절 수를 절대 벗어나지 말 것. 제목과 장르에 어울려야 할 것. 생성 형식은 ['가사 / 가사 / 가사 / 가사']와 같음.\n",
            "\n",
            "### Input(입력):\n",
            "음절 수는 [5 / 8 / 9 / 1 / 6 / 6 / 2 / 6], 제목은 [주제는 사랑], 장르는 [록/메탈]이다.\n",
            "\n",
            "### Response(응답): \n",
            "\n"
          ]
        },
        {
          "output_type": "stream",
          "name": "stderr",
          "text": [
            "Setting `pad_token_id` to `eos_token_id`:2 for open-end generation.\n"
          ]
        },
        {
          "output_type": "stream",
          "name": "stdout",
          "text": [
            "input as follow:\n",
            "### Instruction(명령어):\n",
            "다음 조건에 어울리는 가사를 생성하시오. 주어진 음절 수를 절대 벗어나지 말 것. 제목과 장르에 어울려야 할 것. 생성 형식은 ['가사 / 가사 / 가사 / 가사']와 같음.\n",
            "\n",
            "### Input(입력):\n",
            "음절 수는 [2 / 9 / 7 / 6 / 10 / 3 / 3 / 2 / 1 / 8 / 4 / 7], 제목은 [주제는 사랑], 장르는 [록/메탈]이다.\n",
            "\n",
            "### Response(응답): \n",
            "\n"
          ]
        }
      ]
    },
    {
      "cell_type": "code",
      "source": [
        "eval_df['generated_lines'] = generated_lines"
      ],
      "metadata": {
        "id": "zv2KxALxn9Dy"
      },
      "execution_count": null,
      "outputs": []
    },
    {
      "cell_type": "code",
      "source": [
        "eval_df"
      ],
      "metadata": {
        "colab": {
          "base_uri": "https://localhost:8080/"
        },
        "id": "lcbYgvbEoHG6",
        "outputId": "fed1191f-42a4-4633-95db-f458b39bc613"
      },
      "execution_count": null,
      "outputs": [
        {
          "output_type": "execute_result",
          "data": {
            "text/plain": [
              "                 title genre  \\\n",
              "0             헤어지자 말해요   발라드   \n",
              "1               모래 알갱이   트로트   \n",
              "2              부동의 첫사랑  인디음악   \n",
              "3        건물 사이에 피어난 장미  인디음악   \n",
              "4             잠깐 시간 될까  인디음악   \n",
              "5               운이 좋았지   발라드   \n",
              "6  그건 아마 우리의 잘못은 아닐 거야   R&B   \n",
              "7        지나간 여름을 안타까워마  인디음악   \n",
              "8                어떤 위로  록/메탈   \n",
              "9               주제는 사랑  록/메탈   \n",
              "\n",
              "                                     original_lyrics  \\\n",
              "0  헤어지자고 말하려 오늘\\n너에게 가다가 우리 추억 생각해 봤어\\n처음 본 네 얼굴\\...   \n",
              "1  나는 작은 바람에도 흩어질\\n나는 가벼운 모래 알갱이\\n그대 이 모래에 작은 발걸음...   \n",
              "2  주인공은 아니었지\\n누구의 시점에서도\\n그냥 스쳐 지나가거나\\n친구3이라거나\\n이름...   \n",
              "3  건물 사이에 피어난 장미\\n제발 살아남아 줬으면\\n꺾이지 마 잘 자라줘\\n온몸을 덮...   \n",
              "4  잠깐 시간 될까\\n만날 수 있을까\\n별일은 아니고 그냥 보고 싶어 그래\\n웃지 말고...   \n",
              "5  나는 운이 좋았지\\n다른 사람들은\\n그렇게 어려운 이별을 한다는데\\n나는 운이 좋았...   \n",
              "6  사실은 나도 잘 모르겠어\\n불안한 마음은 어디에서 태어나\\n우리에게까지 온 건지\\n...   \n",
              "7  내 여름을 너에게 맡길게\\n저 푸르른 잎도 언젠가는 녹슬어버리고\\n우릴 감싸는 이 ...   \n",
              "8  널 많이 좋아한다고\\n더 많이 말했어야 했는데\\n불안에 떨며 울먹이던 너\\n난 너를...   \n",
              "9  다른 말로 풀 수 없는\\n돌려 말하고 싶진 않은\\n헤맬 수밖에 없는\\n의미를 알고 ...   \n",
              "\n",
              "                                                syls  \\\n",
              "0  [6 / 9 / 8 / 7, 7 / 8 / 8 / 10 / 7 / 7 / 6 / 8...   \n",
              "1  [1 / 5 / 2 / 1, 1 / 8 / 7 / 4 / 9 / 2 / 6 / 10...   \n",
              "2  [10 / 4 / 8 / 5, 1 / 7 / 6 / 6 / 10 / 4 / 1 / ...   \n",
              "3  [1 / 6 / 7 / 5, 8 / 9 / 5 / 10 / 5 / 9 / 2 / 5...   \n",
              "4  [7 / 1 / 6 / 4, 10 / 4 / 7 / 6 / 4 / 5 / 9 / 2...   \n",
              "5  [6 / 1 / 9 / 6, 2 / 10 / 4 / 9 / 4 / 2 / 9 / 7...   \n",
              "6  [7 / 1 / 5 / 1, 2 / 6 / 5 / 9 / 4 / 1 / 9 / 9,...   \n",
              "7  [4 / 2 / 2 / 1, 9 / 1 / 6 / 2 / 7 / 4 / 2 / 8,...   \n",
              "8  [5 / 6 / 10 / 6, 10 / 9 / 1 / 4 / 5 / 4 / 9 / ...   \n",
              "9  [1 / 2 / 5 / 8, 5 / 8 / 9 / 1 / 6 / 6 / 2 / 6,...   \n",
              "\n",
              "                                     generated_lines  \n",
              "0  [헤어지자 말해요 / 그대가 없는 세상에서 / 나는 살 수가 없죠 / 사랑하는 그대...  \n",
              "1  [그 / 모래알갱이 / 같은 / 너, 난 / 너에게로 달려가고 / 있는 것 같은데 ...  \n",
              "2  [내가 너를 사랑하는 이유 / 너를 사랑 / 하는 이유는 너라서 / 너라서 너라서,...  \n",
              "3  [난 / 너에게로 달려가 / 너에게로 달려가 / 너에게로 가, 건물 사이에 피어난 ...  \n",
              "4  [잠깐 시간 될까 / 나 / 너와 함께 있고 / 싶은 것 같아, 잠깐 시간 될까 우...  \n",
              "5  [나는 운이 좋지 / 난 / 운이 좋지 난 난 운이 좋지 / 난 운이 좋지, 나는 ...  \n",
              "6  [우리가 사랑했던 / 그 / 시간들 속에 / 난, 그건 / 아마 우리의 잘못은 / ...  \n",
              "7  [지나간 / 여름 / 속에 / 난, 지나간 여름을 아쉬워 / 마 / 지나간 여름을 ...  \n",
              "8  [내가 있잖아 / 내가 있잖아 / 내가 있잖아 내가 있잖아 / 내가 있잖아, 그대가...  \n",
              "9  [내 / 맘을 / 받아줄래요 / 그대와의 / 사랑을 시작해요, 사랑이란 / 말로는 ...  "
            ],
            "text/html": [
              "\n",
              "  <div id=\"df-6542c319-2583-45d3-b796-bbb1ed2a2a6c\" class=\"colab-df-container\">\n",
              "    <div>\n",
              "<style scoped>\n",
              "    .dataframe tbody tr th:only-of-type {\n",
              "        vertical-align: middle;\n",
              "    }\n",
              "\n",
              "    .dataframe tbody tr th {\n",
              "        vertical-align: top;\n",
              "    }\n",
              "\n",
              "    .dataframe thead th {\n",
              "        text-align: right;\n",
              "    }\n",
              "</style>\n",
              "<table border=\"1\" class=\"dataframe\">\n",
              "  <thead>\n",
              "    <tr style=\"text-align: right;\">\n",
              "      <th></th>\n",
              "      <th>title</th>\n",
              "      <th>genre</th>\n",
              "      <th>original_lyrics</th>\n",
              "      <th>syls</th>\n",
              "      <th>generated_lines</th>\n",
              "    </tr>\n",
              "  </thead>\n",
              "  <tbody>\n",
              "    <tr>\n",
              "      <th>0</th>\n",
              "      <td>헤어지자 말해요</td>\n",
              "      <td>발라드</td>\n",
              "      <td>헤어지자고 말하려 오늘\\n너에게 가다가 우리 추억 생각해 봤어\\n처음 본 네 얼굴\\...</td>\n",
              "      <td>[6 / 9 / 8 / 7, 7 / 8 / 8 / 10 / 7 / 7 / 6 / 8...</td>\n",
              "      <td>[헤어지자 말해요 / 그대가 없는 세상에서 / 나는 살 수가 없죠 / 사랑하는 그대...</td>\n",
              "    </tr>\n",
              "    <tr>\n",
              "      <th>1</th>\n",
              "      <td>모래 알갱이</td>\n",
              "      <td>트로트</td>\n",
              "      <td>나는 작은 바람에도 흩어질\\n나는 가벼운 모래 알갱이\\n그대 이 모래에 작은 발걸음...</td>\n",
              "      <td>[1 / 5 / 2 / 1, 1 / 8 / 7 / 4 / 9 / 2 / 6 / 10...</td>\n",
              "      <td>[그 / 모래알갱이 / 같은 / 너, 난 / 너에게로 달려가고 / 있는 것 같은데 ...</td>\n",
              "    </tr>\n",
              "    <tr>\n",
              "      <th>2</th>\n",
              "      <td>부동의 첫사랑</td>\n",
              "      <td>인디음악</td>\n",
              "      <td>주인공은 아니었지\\n누구의 시점에서도\\n그냥 스쳐 지나가거나\\n친구3이라거나\\n이름...</td>\n",
              "      <td>[10 / 4 / 8 / 5, 1 / 7 / 6 / 6 / 10 / 4 / 1 / ...</td>\n",
              "      <td>[내가 너를 사랑하는 이유 / 너를 사랑 / 하는 이유는 너라서 / 너라서 너라서,...</td>\n",
              "    </tr>\n",
              "    <tr>\n",
              "      <th>3</th>\n",
              "      <td>건물 사이에 피어난 장미</td>\n",
              "      <td>인디음악</td>\n",
              "      <td>건물 사이에 피어난 장미\\n제발 살아남아 줬으면\\n꺾이지 마 잘 자라줘\\n온몸을 덮...</td>\n",
              "      <td>[1 / 6 / 7 / 5, 8 / 9 / 5 / 10 / 5 / 9 / 2 / 5...</td>\n",
              "      <td>[난 / 너에게로 달려가 / 너에게로 달려가 / 너에게로 가, 건물 사이에 피어난 ...</td>\n",
              "    </tr>\n",
              "    <tr>\n",
              "      <th>4</th>\n",
              "      <td>잠깐 시간 될까</td>\n",
              "      <td>인디음악</td>\n",
              "      <td>잠깐 시간 될까\\n만날 수 있을까\\n별일은 아니고 그냥 보고 싶어 그래\\n웃지 말고...</td>\n",
              "      <td>[7 / 1 / 6 / 4, 10 / 4 / 7 / 6 / 4 / 5 / 9 / 2...</td>\n",
              "      <td>[잠깐 시간 될까 / 나 / 너와 함께 있고 / 싶은 것 같아, 잠깐 시간 될까 우...</td>\n",
              "    </tr>\n",
              "    <tr>\n",
              "      <th>5</th>\n",
              "      <td>운이 좋았지</td>\n",
              "      <td>발라드</td>\n",
              "      <td>나는 운이 좋았지\\n다른 사람들은\\n그렇게 어려운 이별을 한다는데\\n나는 운이 좋았...</td>\n",
              "      <td>[6 / 1 / 9 / 6, 2 / 10 / 4 / 9 / 4 / 2 / 9 / 7...</td>\n",
              "      <td>[나는 운이 좋지 / 난 / 운이 좋지 난 난 운이 좋지 / 난 운이 좋지, 나는 ...</td>\n",
              "    </tr>\n",
              "    <tr>\n",
              "      <th>6</th>\n",
              "      <td>그건 아마 우리의 잘못은 아닐 거야</td>\n",
              "      <td>R&amp;B</td>\n",
              "      <td>사실은 나도 잘 모르겠어\\n불안한 마음은 어디에서 태어나\\n우리에게까지 온 건지\\n...</td>\n",
              "      <td>[7 / 1 / 5 / 1, 2 / 6 / 5 / 9 / 4 / 1 / 9 / 9,...</td>\n",
              "      <td>[우리가 사랑했던 / 그 / 시간들 속에 / 난, 그건 / 아마 우리의 잘못은 / ...</td>\n",
              "    </tr>\n",
              "    <tr>\n",
              "      <th>7</th>\n",
              "      <td>지나간 여름을 안타까워마</td>\n",
              "      <td>인디음악</td>\n",
              "      <td>내 여름을 너에게 맡길게\\n저 푸르른 잎도 언젠가는 녹슬어버리고\\n우릴 감싸는 이 ...</td>\n",
              "      <td>[4 / 2 / 2 / 1, 9 / 1 / 6 / 2 / 7 / 4 / 2 / 8,...</td>\n",
              "      <td>[지나간 / 여름 / 속에 / 난, 지나간 여름을 아쉬워 / 마 / 지나간 여름을 ...</td>\n",
              "    </tr>\n",
              "    <tr>\n",
              "      <th>8</th>\n",
              "      <td>어떤 위로</td>\n",
              "      <td>록/메탈</td>\n",
              "      <td>널 많이 좋아한다고\\n더 많이 말했어야 했는데\\n불안에 떨며 울먹이던 너\\n난 너를...</td>\n",
              "      <td>[5 / 6 / 10 / 6, 10 / 9 / 1 / 4 / 5 / 4 / 9 / ...</td>\n",
              "      <td>[내가 있잖아 / 내가 있잖아 / 내가 있잖아 내가 있잖아 / 내가 있잖아, 그대가...</td>\n",
              "    </tr>\n",
              "    <tr>\n",
              "      <th>9</th>\n",
              "      <td>주제는 사랑</td>\n",
              "      <td>록/메탈</td>\n",
              "      <td>다른 말로 풀 수 없는\\n돌려 말하고 싶진 않은\\n헤맬 수밖에 없는\\n의미를 알고 ...</td>\n",
              "      <td>[1 / 2 / 5 / 8, 5 / 8 / 9 / 1 / 6 / 6 / 2 / 6,...</td>\n",
              "      <td>[내 / 맘을 / 받아줄래요 / 그대와의 / 사랑을 시작해요, 사랑이란 / 말로는 ...</td>\n",
              "    </tr>\n",
              "  </tbody>\n",
              "</table>\n",
              "</div>\n",
              "    <div class=\"colab-df-buttons\">\n",
              "\n",
              "  <div class=\"colab-df-container\">\n",
              "    <button class=\"colab-df-convert\" onclick=\"convertToInteractive('df-6542c319-2583-45d3-b796-bbb1ed2a2a6c')\"\n",
              "            title=\"Convert this dataframe to an interactive table.\"\n",
              "            style=\"display:none;\">\n",
              "\n",
              "  <svg xmlns=\"http://www.w3.org/2000/svg\" height=\"24px\" viewBox=\"0 -960 960 960\">\n",
              "    <path d=\"M120-120v-720h720v720H120Zm60-500h600v-160H180v160Zm220 220h160v-160H400v160Zm0 220h160v-160H400v160ZM180-400h160v-160H180v160Zm440 0h160v-160H620v160ZM180-180h160v-160H180v160Zm440 0h160v-160H620v160Z\"/>\n",
              "  </svg>\n",
              "    </button>\n",
              "\n",
              "  <style>\n",
              "    .colab-df-container {\n",
              "      display:flex;\n",
              "      gap: 12px;\n",
              "    }\n",
              "\n",
              "    .colab-df-convert {\n",
              "      background-color: #E8F0FE;\n",
              "      border: none;\n",
              "      border-radius: 50%;\n",
              "      cursor: pointer;\n",
              "      display: none;\n",
              "      fill: #1967D2;\n",
              "      height: 32px;\n",
              "      padding: 0 0 0 0;\n",
              "      width: 32px;\n",
              "    }\n",
              "\n",
              "    .colab-df-convert:hover {\n",
              "      background-color: #E2EBFA;\n",
              "      box-shadow: 0px 1px 2px rgba(60, 64, 67, 0.3), 0px 1px 3px 1px rgba(60, 64, 67, 0.15);\n",
              "      fill: #174EA6;\n",
              "    }\n",
              "\n",
              "    .colab-df-buttons div {\n",
              "      margin-bottom: 4px;\n",
              "    }\n",
              "\n",
              "    [theme=dark] .colab-df-convert {\n",
              "      background-color: #3B4455;\n",
              "      fill: #D2E3FC;\n",
              "    }\n",
              "\n",
              "    [theme=dark] .colab-df-convert:hover {\n",
              "      background-color: #434B5C;\n",
              "      box-shadow: 0px 1px 3px 1px rgba(0, 0, 0, 0.15);\n",
              "      filter: drop-shadow(0px 1px 2px rgba(0, 0, 0, 0.3));\n",
              "      fill: #FFFFFF;\n",
              "    }\n",
              "  </style>\n",
              "\n",
              "    <script>\n",
              "      const buttonEl =\n",
              "        document.querySelector('#df-6542c319-2583-45d3-b796-bbb1ed2a2a6c button.colab-df-convert');\n",
              "      buttonEl.style.display =\n",
              "        google.colab.kernel.accessAllowed ? 'block' : 'none';\n",
              "\n",
              "      async function convertToInteractive(key) {\n",
              "        const element = document.querySelector('#df-6542c319-2583-45d3-b796-bbb1ed2a2a6c');\n",
              "        const dataTable =\n",
              "          await google.colab.kernel.invokeFunction('convertToInteractive',\n",
              "                                                    [key], {});\n",
              "        if (!dataTable) return;\n",
              "\n",
              "        const docLinkHtml = 'Like what you see? Visit the ' +\n",
              "          '<a target=\"_blank\" href=https://colab.research.google.com/notebooks/data_table.ipynb>data table notebook</a>'\n",
              "          + ' to learn more about interactive tables.';\n",
              "        element.innerHTML = '';\n",
              "        dataTable['output_type'] = 'display_data';\n",
              "        await google.colab.output.renderOutput(dataTable, element);\n",
              "        const docLink = document.createElement('div');\n",
              "        docLink.innerHTML = docLinkHtml;\n",
              "        element.appendChild(docLink);\n",
              "      }\n",
              "    </script>\n",
              "  </div>\n",
              "\n",
              "\n",
              "<div id=\"df-d48062d7-2788-4cca-91ba-69f31b9861ec\">\n",
              "  <button class=\"colab-df-quickchart\" onclick=\"quickchart('df-d48062d7-2788-4cca-91ba-69f31b9861ec')\"\n",
              "            title=\"Suggest charts.\"\n",
              "            style=\"display:none;\">\n",
              "\n",
              "<svg xmlns=\"http://www.w3.org/2000/svg\" height=\"24px\"viewBox=\"0 0 24 24\"\n",
              "     width=\"24px\">\n",
              "    <g>\n",
              "        <path d=\"M19 3H5c-1.1 0-2 .9-2 2v14c0 1.1.9 2 2 2h14c1.1 0 2-.9 2-2V5c0-1.1-.9-2-2-2zM9 17H7v-7h2v7zm4 0h-2V7h2v10zm4 0h-2v-4h2v4z\"/>\n",
              "    </g>\n",
              "</svg>\n",
              "  </button>\n",
              "\n",
              "<style>\n",
              "  .colab-df-quickchart {\n",
              "    background-color: #E8F0FE;\n",
              "    border: none;\n",
              "    border-radius: 50%;\n",
              "    cursor: pointer;\n",
              "    display: none;\n",
              "    fill: #1967D2;\n",
              "    height: 32px;\n",
              "    padding: 0 0 0 0;\n",
              "    width: 32px;\n",
              "  }\n",
              "\n",
              "  .colab-df-quickchart:hover {\n",
              "    background-color: #E2EBFA;\n",
              "    box-shadow: 0px 1px 2px rgba(60, 64, 67, 0.3), 0px 1px 3px 1px rgba(60, 64, 67, 0.15);\n",
              "    fill: #174EA6;\n",
              "  }\n",
              "\n",
              "  [theme=dark] .colab-df-quickchart {\n",
              "    background-color: #3B4455;\n",
              "    fill: #D2E3FC;\n",
              "  }\n",
              "\n",
              "  [theme=dark] .colab-df-quickchart:hover {\n",
              "    background-color: #434B5C;\n",
              "    box-shadow: 0px 1px 3px 1px rgba(0, 0, 0, 0.15);\n",
              "    filter: drop-shadow(0px 1px 2px rgba(0, 0, 0, 0.3));\n",
              "    fill: #FFFFFF;\n",
              "  }\n",
              "</style>\n",
              "\n",
              "  <script>\n",
              "    async function quickchart(key) {\n",
              "      const charts = await google.colab.kernel.invokeFunction(\n",
              "          'suggestCharts', [key], {});\n",
              "    }\n",
              "    (() => {\n",
              "      let quickchartButtonEl =\n",
              "        document.querySelector('#df-d48062d7-2788-4cca-91ba-69f31b9861ec button');\n",
              "      quickchartButtonEl.style.display =\n",
              "        google.colab.kernel.accessAllowed ? 'block' : 'none';\n",
              "    })();\n",
              "  </script>\n",
              "</div>\n",
              "    </div>\n",
              "  </div>\n"
            ]
          },
          "metadata": {},
          "execution_count": 22
        }
      ]
    },
    {
      "cell_type": "markdown",
      "source": [
        "#Align Metric\n",
        "주어진 마디 k개에 대하여, 해당 마디의 음절을 맞추었다면 1, 아니면 0. 이후 최종적인 점수는 마디 개수 k개로 나누어 Normalize"
      ],
      "metadata": {
        "id": "3oZJnJ4TgG6p"
      }
    },
    {
      "cell_type": "markdown",
      "source": [
        "##Function"
      ],
      "metadata": {
        "id": "nYlW3NpJxvr3"
      }
    },
    {
      "cell_type": "code",
      "source": [
        "def lyrics_align_metric(generated_line, original_line, notes=True):\n",
        "    \"\"\"\n",
        "    Calculate aligning score for a given pair of lyrics.\n",
        "\n",
        "    Args:\n",
        "    - generated_line (str): The lyrics from the generated line.\n",
        "    - original_line (str): The original line of lyrics.\n",
        "\n",
        "    Returns:\n",
        "    - score (float): From 0(if all bars are wrongfully aligned) to 1(if all bars are successfully aligned)\n",
        "    \"\"\"\n",
        "\n",
        "    gen_syls = [len(words.replace(' ','')) for words in generated_line.split(' / ')]\n",
        "    if not notes:\n",
        "        orig_syls = [len(words) for words in original_line.split(' / ')]\n",
        "    else:\n",
        "        orig_syls = [int(note) for note in original_line.split(' / ')]\n",
        "\n",
        "    # Pad 0 to match the length\n",
        "    while len(gen_syls) < len(orig_syls):\n",
        "        gen_syls.append(0)\n",
        "    while len(orig_syls) < len(gen_syls):\n",
        "        orig_syls.append(0)\n",
        "\n",
        "    score = 0\n",
        "\n",
        "    for g, o in zip(gen_syls, orig_syls):\n",
        "        if g == o:\n",
        "            score += 1\n",
        "\n",
        "    return score / len(gen_syls)"
      ],
      "metadata": {
        "id": "gCKySTZegGBX"
      },
      "execution_count": null,
      "outputs": []
    },
    {
      "cell_type": "markdown",
      "source": [
        "##Sample"
      ],
      "metadata": {
        "id": "knMQ_5lExyEc"
      }
    },
    {
      "cell_type": "code",
      "source": [
        "lyrics_align_metric('랄랄라 / 랄랄랄라 / 랄 / 랄라', '딴딴따 / 딴딴딴따 / 딴 / 따란', notes=False)"
      ],
      "metadata": {
        "colab": {
          "base_uri": "https://localhost:8080/"
        },
        "id": "ZqJ1kU-JiIL4",
        "outputId": "4c82dcd1-fe27-40b3-e4ef-939c81d2500e"
      },
      "execution_count": null,
      "outputs": [
        {
          "output_type": "execute_result",
          "data": {
            "text/plain": [
              "1.0"
            ]
          },
          "metadata": {},
          "execution_count": 24
        }
      ]
    },
    {
      "cell_type": "code",
      "source": [
        "lyrics_align_metric('랄랄라 / 랄랄랄라 / 랄', '딴딴따 / 딴딴딴따 / 딴 / 따란', notes=False)"
      ],
      "metadata": {
        "colab": {
          "base_uri": "https://localhost:8080/"
        },
        "id": "gy_Z882viUpk",
        "outputId": "91f39bde-9c7a-4141-dd41-80898cb0737d"
      },
      "execution_count": null,
      "outputs": [
        {
          "output_type": "execute_result",
          "data": {
            "text/plain": [
              "0.75"
            ]
          },
          "metadata": {},
          "execution_count": 25
        }
      ]
    },
    {
      "cell_type": "code",
      "source": [
        "lyrics_align_metric('랄랄라 / 랄랄랄라 / 랄 / 라라랄', '딴딴따 / 딴딴딴따 / 딴 / 따란', notes=False)"
      ],
      "metadata": {
        "colab": {
          "base_uri": "https://localhost:8080/"
        },
        "id": "3_vWWnRiiebF",
        "outputId": "dcb46099-f739-49ac-a0bb-28e25a37c942"
      },
      "execution_count": null,
      "outputs": [
        {
          "output_type": "execute_result",
          "data": {
            "text/plain": [
              "0.75"
            ]
          },
          "metadata": {},
          "execution_count": 26
        }
      ]
    },
    {
      "cell_type": "code",
      "source": [
        "lyrics_align_metric('랄랄라 / 랄 / 랄 / 랄라', '딴딴따 / 딴딴딴따 / 딴 / 따란', notes=False)"
      ],
      "metadata": {
        "colab": {
          "base_uri": "https://localhost:8080/"
        },
        "id": "0lUAdQFxihLq",
        "outputId": "0d795bae-7892-4e1f-c8f8-8cf65188f3db"
      },
      "execution_count": null,
      "outputs": [
        {
          "output_type": "execute_result",
          "data": {
            "text/plain": [
              "0.75"
            ]
          },
          "metadata": {},
          "execution_count": 27
        }
      ]
    },
    {
      "cell_type": "code",
      "source": [
        "lyrics_align_metric('랄라 / 랄라 / 랄라 / 랄라', '딴딴따 / 딴딴딴따 / 딴 / 따란', notes=False)"
      ],
      "metadata": {
        "colab": {
          "base_uri": "https://localhost:8080/"
        },
        "id": "E0qwccs7ilL9",
        "outputId": "076372f5-9c1c-4173-b8bc-a633e7ac8cfa"
      },
      "execution_count": null,
      "outputs": [
        {
          "output_type": "execute_result",
          "data": {
            "text/plain": [
              "0.25"
            ]
          },
          "metadata": {},
          "execution_count": 28
        }
      ]
    },
    {
      "cell_type": "code",
      "source": [
        "lyrics_align_metric('사랑은 다 끝났어 / 나를 떠나 행복해줘 난 / 널 잊을 수 있을 거야 / 사랑은 다 끝났어', '6 / 9 / 8 / 7')"
      ],
      "metadata": {
        "colab": {
          "base_uri": "https://localhost:8080/"
        },
        "id": "4EjL2LO5S9u4",
        "outputId": "da57b1ff-a1ea-4133-ab16-fec005d8c2c0"
      },
      "execution_count": null,
      "outputs": [
        {
          "output_type": "execute_result",
          "data": {
            "text/plain": [
              "0.75"
            ]
          },
          "metadata": {},
          "execution_count": 29
        }
      ]
    },
    {
      "cell_type": "markdown",
      "source": [
        "##Evaluate eval_set"
      ],
      "metadata": {
        "id": "4rrcFko4x2q1"
      }
    },
    {
      "cell_type": "code",
      "source": [
        "align_scores = []\n",
        "for _, row in eval_df.iterrows():\n",
        "    align_scores.append([lyrics_align_metric(g,s) for g,s in zip(row['generated_lines'], row['syls'])])"
      ],
      "metadata": {
        "id": "2xzKgh2qx-KT"
      },
      "execution_count": null,
      "outputs": []
    },
    {
      "cell_type": "code",
      "source": [
        "eval_df['align_scores'] = align_scores"
      ],
      "metadata": {
        "id": "TM_bHoW3y_vc"
      },
      "execution_count": null,
      "outputs": []
    },
    {
      "cell_type": "code",
      "source": [
        "eval_df"
      ],
      "metadata": {
        "colab": {
          "base_uri": "https://localhost:8080/"
        },
        "id": "lEUjSu9v0FQ3",
        "outputId": "e9c5b445-713a-4f71-f6bf-bb2a05a16b24"
      },
      "execution_count": null,
      "outputs": [
        {
          "output_type": "execute_result",
          "data": {
            "text/plain": [
              "                 title genre  \\\n",
              "0             헤어지자 말해요   발라드   \n",
              "1               모래 알갱이   트로트   \n",
              "2              부동의 첫사랑  인디음악   \n",
              "3        건물 사이에 피어난 장미  인디음악   \n",
              "4             잠깐 시간 될까  인디음악   \n",
              "5               운이 좋았지   발라드   \n",
              "6  그건 아마 우리의 잘못은 아닐 거야   R&B   \n",
              "7        지나간 여름을 안타까워마  인디음악   \n",
              "8                어떤 위로  록/메탈   \n",
              "9               주제는 사랑  록/메탈   \n",
              "\n",
              "                                     original_lyrics  \\\n",
              "0  헤어지자고 말하려 오늘\\n너에게 가다가 우리 추억 생각해 봤어\\n처음 본 네 얼굴\\...   \n",
              "1  나는 작은 바람에도 흩어질\\n나는 가벼운 모래 알갱이\\n그대 이 모래에 작은 발걸음...   \n",
              "2  주인공은 아니었지\\n누구의 시점에서도\\n그냥 스쳐 지나가거나\\n친구3이라거나\\n이름...   \n",
              "3  건물 사이에 피어난 장미\\n제발 살아남아 줬으면\\n꺾이지 마 잘 자라줘\\n온몸을 덮...   \n",
              "4  잠깐 시간 될까\\n만날 수 있을까\\n별일은 아니고 그냥 보고 싶어 그래\\n웃지 말고...   \n",
              "5  나는 운이 좋았지\\n다른 사람들은\\n그렇게 어려운 이별을 한다는데\\n나는 운이 좋았...   \n",
              "6  사실은 나도 잘 모르겠어\\n불안한 마음은 어디에서 태어나\\n우리에게까지 온 건지\\n...   \n",
              "7  내 여름을 너에게 맡길게\\n저 푸르른 잎도 언젠가는 녹슬어버리고\\n우릴 감싸는 이 ...   \n",
              "8  널 많이 좋아한다고\\n더 많이 말했어야 했는데\\n불안에 떨며 울먹이던 너\\n난 너를...   \n",
              "9  다른 말로 풀 수 없는\\n돌려 말하고 싶진 않은\\n헤맬 수밖에 없는\\n의미를 알고 ...   \n",
              "\n",
              "                                                syls  \\\n",
              "0  [6 / 9 / 8 / 7, 7 / 8 / 8 / 10 / 7 / 7 / 6 / 8...   \n",
              "1  [1 / 5 / 2 / 1, 1 / 8 / 7 / 4 / 9 / 2 / 6 / 10...   \n",
              "2  [10 / 4 / 8 / 5, 1 / 7 / 6 / 6 / 10 / 4 / 1 / ...   \n",
              "3  [1 / 6 / 7 / 5, 8 / 9 / 5 / 10 / 5 / 9 / 2 / 5...   \n",
              "4  [7 / 1 / 6 / 4, 10 / 4 / 7 / 6 / 4 / 5 / 9 / 2...   \n",
              "5  [6 / 1 / 9 / 6, 2 / 10 / 4 / 9 / 4 / 2 / 9 / 7...   \n",
              "6  [7 / 1 / 5 / 1, 2 / 6 / 5 / 9 / 4 / 1 / 9 / 9,...   \n",
              "7  [4 / 2 / 2 / 1, 9 / 1 / 6 / 2 / 7 / 4 / 2 / 8,...   \n",
              "8  [5 / 6 / 10 / 6, 10 / 9 / 1 / 4 / 5 / 4 / 9 / ...   \n",
              "9  [1 / 2 / 5 / 8, 5 / 8 / 9 / 1 / 6 / 6 / 2 / 6,...   \n",
              "\n",
              "                                     generated_lines  \\\n",
              "0  [헤어지자 말해요 / 그대가 없는 세상에서 / 나는 살 수가 없죠 / 사랑하는 그대...   \n",
              "1  [그 / 모래알갱이 / 같은 / 너, 난 / 너에게로 달려가고 / 있는 것 같은데 ...   \n",
              "2  [내가 너를 사랑하는 이유 / 너를 사랑 / 하는 이유는 너라서 / 너라서 너라서,...   \n",
              "3  [난 / 너에게로 달려가 / 너에게로 달려가 / 너에게로 가, 건물 사이에 피어난 ...   \n",
              "4  [잠깐 시간 될까 / 나 / 너와 함께 있고 / 싶은 것 같아, 잠깐 시간 될까 우...   \n",
              "5  [나는 운이 좋지 / 난 / 운이 좋지 난 난 운이 좋지 / 난 운이 좋지, 나는 ...   \n",
              "6  [우리가 사랑했던 / 그 / 시간들 속에 / 난, 그건 / 아마 우리의 잘못은 / ...   \n",
              "7  [지나간 / 여름 / 속에 / 난, 지나간 여름을 아쉬워 / 마 / 지나간 여름을 ...   \n",
              "8  [내가 있잖아 / 내가 있잖아 / 내가 있잖아 내가 있잖아 / 내가 있잖아, 그대가...   \n",
              "9  [내 / 맘을 / 받아줄래요 / 그대와의 / 사랑을 시작해요, 사랑이란 / 말로는 ...   \n",
              "\n",
              "                                     align_scores  \n",
              "0               [0.5, 0.125, 0.16666666666666666]  \n",
              "1                [1.0, 0.625, 0.3333333333333333]  \n",
              "2              [0.75, 0.125, 0.46153846153846156]  \n",
              "3                 [0.75, 0.2222222222222222, 0.5]  \n",
              "4                                [0.5, 0.5, 0.25]  \n",
              "5                               [0.5, 0.375, 0.4]  \n",
              "6                [1.0, 0.25, 0.08333333333333333]  \n",
              "7  [0.75, 0.3333333333333333, 0.3333333333333333]  \n",
              "8                 [0.5, 0.2222222222222222, 0.25]  \n",
              "9                              [0.6, 0.125, 0.25]  "
            ],
            "text/html": [
              "\n",
              "  <div id=\"df-ac5ff93d-564d-4bc8-a4e2-2631ea3b6696\" class=\"colab-df-container\">\n",
              "    <div>\n",
              "<style scoped>\n",
              "    .dataframe tbody tr th:only-of-type {\n",
              "        vertical-align: middle;\n",
              "    }\n",
              "\n",
              "    .dataframe tbody tr th {\n",
              "        vertical-align: top;\n",
              "    }\n",
              "\n",
              "    .dataframe thead th {\n",
              "        text-align: right;\n",
              "    }\n",
              "</style>\n",
              "<table border=\"1\" class=\"dataframe\">\n",
              "  <thead>\n",
              "    <tr style=\"text-align: right;\">\n",
              "      <th></th>\n",
              "      <th>title</th>\n",
              "      <th>genre</th>\n",
              "      <th>original_lyrics</th>\n",
              "      <th>syls</th>\n",
              "      <th>generated_lines</th>\n",
              "      <th>align_scores</th>\n",
              "    </tr>\n",
              "  </thead>\n",
              "  <tbody>\n",
              "    <tr>\n",
              "      <th>0</th>\n",
              "      <td>헤어지자 말해요</td>\n",
              "      <td>발라드</td>\n",
              "      <td>헤어지자고 말하려 오늘\\n너에게 가다가 우리 추억 생각해 봤어\\n처음 본 네 얼굴\\...</td>\n",
              "      <td>[6 / 9 / 8 / 7, 7 / 8 / 8 / 10 / 7 / 7 / 6 / 8...</td>\n",
              "      <td>[헤어지자 말해요 / 그대가 없는 세상에서 / 나는 살 수가 없죠 / 사랑하는 그대...</td>\n",
              "      <td>[0.5, 0.125, 0.16666666666666666]</td>\n",
              "    </tr>\n",
              "    <tr>\n",
              "      <th>1</th>\n",
              "      <td>모래 알갱이</td>\n",
              "      <td>트로트</td>\n",
              "      <td>나는 작은 바람에도 흩어질\\n나는 가벼운 모래 알갱이\\n그대 이 모래에 작은 발걸음...</td>\n",
              "      <td>[1 / 5 / 2 / 1, 1 / 8 / 7 / 4 / 9 / 2 / 6 / 10...</td>\n",
              "      <td>[그 / 모래알갱이 / 같은 / 너, 난 / 너에게로 달려가고 / 있는 것 같은데 ...</td>\n",
              "      <td>[1.0, 0.625, 0.3333333333333333]</td>\n",
              "    </tr>\n",
              "    <tr>\n",
              "      <th>2</th>\n",
              "      <td>부동의 첫사랑</td>\n",
              "      <td>인디음악</td>\n",
              "      <td>주인공은 아니었지\\n누구의 시점에서도\\n그냥 스쳐 지나가거나\\n친구3이라거나\\n이름...</td>\n",
              "      <td>[10 / 4 / 8 / 5, 1 / 7 / 6 / 6 / 10 / 4 / 1 / ...</td>\n",
              "      <td>[내가 너를 사랑하는 이유 / 너를 사랑 / 하는 이유는 너라서 / 너라서 너라서,...</td>\n",
              "      <td>[0.75, 0.125, 0.46153846153846156]</td>\n",
              "    </tr>\n",
              "    <tr>\n",
              "      <th>3</th>\n",
              "      <td>건물 사이에 피어난 장미</td>\n",
              "      <td>인디음악</td>\n",
              "      <td>건물 사이에 피어난 장미\\n제발 살아남아 줬으면\\n꺾이지 마 잘 자라줘\\n온몸을 덮...</td>\n",
              "      <td>[1 / 6 / 7 / 5, 8 / 9 / 5 / 10 / 5 / 9 / 2 / 5...</td>\n",
              "      <td>[난 / 너에게로 달려가 / 너에게로 달려가 / 너에게로 가, 건물 사이에 피어난 ...</td>\n",
              "      <td>[0.75, 0.2222222222222222, 0.5]</td>\n",
              "    </tr>\n",
              "    <tr>\n",
              "      <th>4</th>\n",
              "      <td>잠깐 시간 될까</td>\n",
              "      <td>인디음악</td>\n",
              "      <td>잠깐 시간 될까\\n만날 수 있을까\\n별일은 아니고 그냥 보고 싶어 그래\\n웃지 말고...</td>\n",
              "      <td>[7 / 1 / 6 / 4, 10 / 4 / 7 / 6 / 4 / 5 / 9 / 2...</td>\n",
              "      <td>[잠깐 시간 될까 / 나 / 너와 함께 있고 / 싶은 것 같아, 잠깐 시간 될까 우...</td>\n",
              "      <td>[0.5, 0.5, 0.25]</td>\n",
              "    </tr>\n",
              "    <tr>\n",
              "      <th>5</th>\n",
              "      <td>운이 좋았지</td>\n",
              "      <td>발라드</td>\n",
              "      <td>나는 운이 좋았지\\n다른 사람들은\\n그렇게 어려운 이별을 한다는데\\n나는 운이 좋았...</td>\n",
              "      <td>[6 / 1 / 9 / 6, 2 / 10 / 4 / 9 / 4 / 2 / 9 / 7...</td>\n",
              "      <td>[나는 운이 좋지 / 난 / 운이 좋지 난 난 운이 좋지 / 난 운이 좋지, 나는 ...</td>\n",
              "      <td>[0.5, 0.375, 0.4]</td>\n",
              "    </tr>\n",
              "    <tr>\n",
              "      <th>6</th>\n",
              "      <td>그건 아마 우리의 잘못은 아닐 거야</td>\n",
              "      <td>R&amp;B</td>\n",
              "      <td>사실은 나도 잘 모르겠어\\n불안한 마음은 어디에서 태어나\\n우리에게까지 온 건지\\n...</td>\n",
              "      <td>[7 / 1 / 5 / 1, 2 / 6 / 5 / 9 / 4 / 1 / 9 / 9,...</td>\n",
              "      <td>[우리가 사랑했던 / 그 / 시간들 속에 / 난, 그건 / 아마 우리의 잘못은 / ...</td>\n",
              "      <td>[1.0, 0.25, 0.08333333333333333]</td>\n",
              "    </tr>\n",
              "    <tr>\n",
              "      <th>7</th>\n",
              "      <td>지나간 여름을 안타까워마</td>\n",
              "      <td>인디음악</td>\n",
              "      <td>내 여름을 너에게 맡길게\\n저 푸르른 잎도 언젠가는 녹슬어버리고\\n우릴 감싸는 이 ...</td>\n",
              "      <td>[4 / 2 / 2 / 1, 9 / 1 / 6 / 2 / 7 / 4 / 2 / 8,...</td>\n",
              "      <td>[지나간 / 여름 / 속에 / 난, 지나간 여름을 아쉬워 / 마 / 지나간 여름을 ...</td>\n",
              "      <td>[0.75, 0.3333333333333333, 0.3333333333333333]</td>\n",
              "    </tr>\n",
              "    <tr>\n",
              "      <th>8</th>\n",
              "      <td>어떤 위로</td>\n",
              "      <td>록/메탈</td>\n",
              "      <td>널 많이 좋아한다고\\n더 많이 말했어야 했는데\\n불안에 떨며 울먹이던 너\\n난 너를...</td>\n",
              "      <td>[5 / 6 / 10 / 6, 10 / 9 / 1 / 4 / 5 / 4 / 9 / ...</td>\n",
              "      <td>[내가 있잖아 / 내가 있잖아 / 내가 있잖아 내가 있잖아 / 내가 있잖아, 그대가...</td>\n",
              "      <td>[0.5, 0.2222222222222222, 0.25]</td>\n",
              "    </tr>\n",
              "    <tr>\n",
              "      <th>9</th>\n",
              "      <td>주제는 사랑</td>\n",
              "      <td>록/메탈</td>\n",
              "      <td>다른 말로 풀 수 없는\\n돌려 말하고 싶진 않은\\n헤맬 수밖에 없는\\n의미를 알고 ...</td>\n",
              "      <td>[1 / 2 / 5 / 8, 5 / 8 / 9 / 1 / 6 / 6 / 2 / 6,...</td>\n",
              "      <td>[내 / 맘을 / 받아줄래요 / 그대와의 / 사랑을 시작해요, 사랑이란 / 말로는 ...</td>\n",
              "      <td>[0.6, 0.125, 0.25]</td>\n",
              "    </tr>\n",
              "  </tbody>\n",
              "</table>\n",
              "</div>\n",
              "    <div class=\"colab-df-buttons\">\n",
              "\n",
              "  <div class=\"colab-df-container\">\n",
              "    <button class=\"colab-df-convert\" onclick=\"convertToInteractive('df-ac5ff93d-564d-4bc8-a4e2-2631ea3b6696')\"\n",
              "            title=\"Convert this dataframe to an interactive table.\"\n",
              "            style=\"display:none;\">\n",
              "\n",
              "  <svg xmlns=\"http://www.w3.org/2000/svg\" height=\"24px\" viewBox=\"0 -960 960 960\">\n",
              "    <path d=\"M120-120v-720h720v720H120Zm60-500h600v-160H180v160Zm220 220h160v-160H400v160Zm0 220h160v-160H400v160ZM180-400h160v-160H180v160Zm440 0h160v-160H620v160ZM180-180h160v-160H180v160Zm440 0h160v-160H620v160Z\"/>\n",
              "  </svg>\n",
              "    </button>\n",
              "\n",
              "  <style>\n",
              "    .colab-df-container {\n",
              "      display:flex;\n",
              "      gap: 12px;\n",
              "    }\n",
              "\n",
              "    .colab-df-convert {\n",
              "      background-color: #E8F0FE;\n",
              "      border: none;\n",
              "      border-radius: 50%;\n",
              "      cursor: pointer;\n",
              "      display: none;\n",
              "      fill: #1967D2;\n",
              "      height: 32px;\n",
              "      padding: 0 0 0 0;\n",
              "      width: 32px;\n",
              "    }\n",
              "\n",
              "    .colab-df-convert:hover {\n",
              "      background-color: #E2EBFA;\n",
              "      box-shadow: 0px 1px 2px rgba(60, 64, 67, 0.3), 0px 1px 3px 1px rgba(60, 64, 67, 0.15);\n",
              "      fill: #174EA6;\n",
              "    }\n",
              "\n",
              "    .colab-df-buttons div {\n",
              "      margin-bottom: 4px;\n",
              "    }\n",
              "\n",
              "    [theme=dark] .colab-df-convert {\n",
              "      background-color: #3B4455;\n",
              "      fill: #D2E3FC;\n",
              "    }\n",
              "\n",
              "    [theme=dark] .colab-df-convert:hover {\n",
              "      background-color: #434B5C;\n",
              "      box-shadow: 0px 1px 3px 1px rgba(0, 0, 0, 0.15);\n",
              "      filter: drop-shadow(0px 1px 2px rgba(0, 0, 0, 0.3));\n",
              "      fill: #FFFFFF;\n",
              "    }\n",
              "  </style>\n",
              "\n",
              "    <script>\n",
              "      const buttonEl =\n",
              "        document.querySelector('#df-ac5ff93d-564d-4bc8-a4e2-2631ea3b6696 button.colab-df-convert');\n",
              "      buttonEl.style.display =\n",
              "        google.colab.kernel.accessAllowed ? 'block' : 'none';\n",
              "\n",
              "      async function convertToInteractive(key) {\n",
              "        const element = document.querySelector('#df-ac5ff93d-564d-4bc8-a4e2-2631ea3b6696');\n",
              "        const dataTable =\n",
              "          await google.colab.kernel.invokeFunction('convertToInteractive',\n",
              "                                                    [key], {});\n",
              "        if (!dataTable) return;\n",
              "\n",
              "        const docLinkHtml = 'Like what you see? Visit the ' +\n",
              "          '<a target=\"_blank\" href=https://colab.research.google.com/notebooks/data_table.ipynb>data table notebook</a>'\n",
              "          + ' to learn more about interactive tables.';\n",
              "        element.innerHTML = '';\n",
              "        dataTable['output_type'] = 'display_data';\n",
              "        await google.colab.output.renderOutput(dataTable, element);\n",
              "        const docLink = document.createElement('div');\n",
              "        docLink.innerHTML = docLinkHtml;\n",
              "        element.appendChild(docLink);\n",
              "      }\n",
              "    </script>\n",
              "  </div>\n",
              "\n",
              "\n",
              "<div id=\"df-6e716d64-097f-40b5-8461-6c040ebe7d6d\">\n",
              "  <button class=\"colab-df-quickchart\" onclick=\"quickchart('df-6e716d64-097f-40b5-8461-6c040ebe7d6d')\"\n",
              "            title=\"Suggest charts.\"\n",
              "            style=\"display:none;\">\n",
              "\n",
              "<svg xmlns=\"http://www.w3.org/2000/svg\" height=\"24px\"viewBox=\"0 0 24 24\"\n",
              "     width=\"24px\">\n",
              "    <g>\n",
              "        <path d=\"M19 3H5c-1.1 0-2 .9-2 2v14c0 1.1.9 2 2 2h14c1.1 0 2-.9 2-2V5c0-1.1-.9-2-2-2zM9 17H7v-7h2v7zm4 0h-2V7h2v10zm4 0h-2v-4h2v4z\"/>\n",
              "    </g>\n",
              "</svg>\n",
              "  </button>\n",
              "\n",
              "<style>\n",
              "  .colab-df-quickchart {\n",
              "    background-color: #E8F0FE;\n",
              "    border: none;\n",
              "    border-radius: 50%;\n",
              "    cursor: pointer;\n",
              "    display: none;\n",
              "    fill: #1967D2;\n",
              "    height: 32px;\n",
              "    padding: 0 0 0 0;\n",
              "    width: 32px;\n",
              "  }\n",
              "\n",
              "  .colab-df-quickchart:hover {\n",
              "    background-color: #E2EBFA;\n",
              "    box-shadow: 0px 1px 2px rgba(60, 64, 67, 0.3), 0px 1px 3px 1px rgba(60, 64, 67, 0.15);\n",
              "    fill: #174EA6;\n",
              "  }\n",
              "\n",
              "  [theme=dark] .colab-df-quickchart {\n",
              "    background-color: #3B4455;\n",
              "    fill: #D2E3FC;\n",
              "  }\n",
              "\n",
              "  [theme=dark] .colab-df-quickchart:hover {\n",
              "    background-color: #434B5C;\n",
              "    box-shadow: 0px 1px 3px 1px rgba(0, 0, 0, 0.15);\n",
              "    filter: drop-shadow(0px 1px 2px rgba(0, 0, 0, 0.3));\n",
              "    fill: #FFFFFF;\n",
              "  }\n",
              "</style>\n",
              "\n",
              "  <script>\n",
              "    async function quickchart(key) {\n",
              "      const charts = await google.colab.kernel.invokeFunction(\n",
              "          'suggestCharts', [key], {});\n",
              "    }\n",
              "    (() => {\n",
              "      let quickchartButtonEl =\n",
              "        document.querySelector('#df-6e716d64-097f-40b5-8461-6c040ebe7d6d button');\n",
              "      quickchartButtonEl.style.display =\n",
              "        google.colab.kernel.accessAllowed ? 'block' : 'none';\n",
              "    })();\n",
              "  </script>\n",
              "</div>\n",
              "    </div>\n",
              "  </div>\n"
            ]
          },
          "metadata": {},
          "execution_count": 32
        }
      ]
    },
    {
      "cell_type": "markdown",
      "source": [
        "#Semantic Metric\n",
        "생성된 가사가 다양성은 유지하면서, 원본 가사와 얼마나 유사하게 생성되었는지 판단하는 지표  "
      ],
      "metadata": {
        "id": "eQMBnM7jSeuW"
      }
    },
    {
      "cell_type": "markdown",
      "source": [
        "##Function"
      ],
      "metadata": {
        "id": "YYTGEQw54Vvv"
      }
    },
    {
      "cell_type": "code",
      "source": [
        "import pandas as pd"
      ],
      "metadata": {
        "id": "qfSCCDWIUkt-"
      },
      "execution_count": null,
      "outputs": []
    },
    {
      "cell_type": "code",
      "source": [
        "corpus = list(pd.read_csv('/content/drive/MyDrive/HeungEol/HeungEol_Dataset_v1.0.csv', encoding='utf-8-sig')['가사'])"
      ],
      "metadata": {
        "id": "j7DQCp9mU01q"
      },
      "execution_count": null,
      "outputs": []
    },
    {
      "cell_type": "code",
      "source": [
        "corpus[:5]"
      ],
      "metadata": {
        "colab": {
          "base_uri": "https://localhost:8080/"
        },
        "id": "DXQV6AW_U-dZ",
        "outputId": "546cd2f5-dbca-44f3-d703-c46a58a53e13"
      },
      "execution_count": null,
      "outputs": [
        {
          "output_type": "execute_result",
          "data": {
            "text/plain": [
              "['J 스치는 바람에 J 그대 모습 보이면\\n난 오늘도 조용히 그댈 그리워하네\\nJ 지난밤 꿈속에 J 만났던 모습은\\n내 가슴 속깊이 여울져 남아 있네\\n\\nJ 아름다운 여름날이 멀리 사라졌다 해도\\nJ 나의 사랑은 아직도 변함 없는데\\nj 난 너를 못잊어 J 난 너를 사랑해\\n\\nJ 우리가 걸었던 J 추억의 그 길을\\n난 이밤도 쓸쓸히 쓸쓸히 걷고 있네\\n\\nJ 아름다운 여름날이 멀리 사라졌다 해도\\nJ 나의 사랑은 아직도 변함 없는데\\nj 난 너를 못잊어 J 난 너를 사랑해\\n\\nJ 우리가 걸었던 J 추억의 그길을\\n난 이밤도 쓸쓸히 쓸쓸히 걷고 있네\\n\\n쓸쓸히 걷고 있네 -',\n",
              " '나는 나는 갯바위\\n당신은 나를 사랑하는 파도\\n어느 고운 바람 불던날\\n잔잔히 다가와\\n부드러운 손길로 나를 감싸고\\n향기로운 입술도 내게 주었지\\n세찬 비바람에 내몸이 패이고\\n이는 파도에 깨끗이 부서져도\\n나의 생은 당신의\\n조각품인것을\\n나는 당신으로 인해\\n아름다운 것을\\n나는 나는 갯바위\\n당신은 나를 사랑하는 파도\\n우린 오늘도 마주보며\\n이렇게 서있네\\n\\n세찬 비바람에 내몸이 패이고\\n이는 파도에 깨끗이 부서져도\\n나의 생은 당신의\\n조각품인것을\\n나는 당신으로 인해\\n아름다운 것을\\n나는 나는 갯바위\\n당신은 나를 사랑하는 파도\\n우린 오늘도 마주보며\\n이렇게 서있네\\n나는 나는 갯바위\\n당신은 나를 사랑하는 파도\\n우린 오늘도 마주보며\\n이렇게 서있네\\n이렇게 서있네',\n",
              " '별이 유난히도 밝은\\n오늘 이 시간이 가면\\n그대\\n떠난다~는 말이\\n나를 슬프~게 하네\\n이 밤 다가도록\\n아 행복했~던 시절\\n많은 우리들~의 약속\\n자꾸 귓가를 스쳐\\n나를 슬프~게 하네\\n그대 잘못 아니예요\\n왠지 울고 싶어져요\\n나는 너무나~도 파란\\n꿈을 꾸고 있었어요\\n\\n별이 유난히도 밝은\\n오늘 이 시간이 가면\\n그대\\n떠난다~는 말이\\n나를 슬프~게 하네\\n이 밤 다가도록\\n아 행복했~던 시절\\n많은 우리들~의 약속\\n자꾸 귓가를 스쳐\\n나를 슬프~게 하네\\n그대 잘못 아니예요\\n왠지 울고 싶어져요\\n나는 너무나~도 파란\\n꿈을 꾸고 있었어요',\n",
              " '당신의 고운 눈매에 할말을 잊었지만은\\n냉정히 돌아선 무정한 사람은 눈물을 모르겠지요\\n말문이 막혀서인지 할말을 잊었지만은\\n다정한 그날의 뜨거운 추억을 어떻게 잊을 수 있나\\n미소가 머물다간 시간도 없이 떠나는 사람이면\\n아쉬운 미련도 아쉬운 마음도 남기지 말아요\\n잃어버린 정이 그리워지면 그때는 어찌하나요',\n",
              " '그대의 모습 멀어져갔네\\n쓸쓸한 기억 남기고\\n낭만이 지워진 그 길로\\n조용히 멀어져갔네\\n우리의 꿈도 사라져갔네\\n이별에 그늘 속으로\\n피지도 못하는 꽃처럼\\n그렇게 사라져갔네\\n\\n그것은 물같은 사랑\\n이루지 못한 그 애절한 사랑\\n난 잊을 수가 없어\\n또 여기 걸어가네\\n내 잃어버린 꿈을 찾아서\\n그대의 모습 가슴에 있네\\n이렇게 헤매일 때면\\n물같이 흐르는 그 모습\\n내 작은 가슴에 있네\\n\\n그것은 물같은 사랑\\n이루지 못한 그 애절한 사랑\\n난 잊을 수가 없어\\n또 여기 걸어가네\\n내 잃어버린 꿈을 찾아서\\n그대의 모습 가슴에 있네\\n이렇게 헤매일 때면\\n물같이 흐르는 그 모습\\n내 작은 가슴에 있네']"
            ]
          },
          "metadata": {},
          "execution_count": 35
        }
      ]
    },
    {
      "cell_type": "code",
      "source": [
        "len(corpus)"
      ],
      "metadata": {
        "colab": {
          "base_uri": "https://localhost:8080/"
        },
        "id": "arNyyAwWVnPp",
        "outputId": "acc6c834-ad74-40c7-e933-1140a8e861e1"
      },
      "execution_count": null,
      "outputs": [
        {
          "output_type": "execute_result",
          "data": {
            "text/plain": [
              "28569"
            ]
          },
          "metadata": {},
          "execution_count": 36
        }
      ]
    },
    {
      "cell_type": "code",
      "source": [
        "from sklearn.feature_extraction.text import TfidfVectorizer\n",
        "\n",
        "\n",
        "vectorizer = TfidfVectorizer()\n",
        "vectorizer.fit(corpus)\n",
        "\n",
        "df = (vectorizer.transform(corpus) > 0).sum(axis=0).tolist()[0]\n",
        "inverted_normalized_df = [1 - (value/len(corpus))*2 for value in df]\n",
        "\n",
        "inverted_normalized_df_dict = dict(zip(vectorizer.get_feature_names_out(), inverted_normalized_df))"
      ],
      "metadata": {
        "id": "QR4-km4XSUTd"
      },
      "execution_count": null,
      "outputs": []
    },
    {
      "cell_type": "code",
      "source": [
        "sorted(inverted_normalized_df_dict.items(), key = lambda x: x[1])[:75]"
      ],
      "metadata": {
        "colab": {
          "base_uri": "https://localhost:8080/"
        },
        "id": "_PLB2wiCVPnx",
        "outputId": "3a763bde-0f8b-4e95-a02a-7d5e07f65381"
      },
      "execution_count": null,
      "outputs": [
        {
          "output_type": "execute_result",
          "data": {
            "text/plain": [
              "[('내가', 0.4436627113304631),\n",
              " ('나를', 0.4965172039623368),\n",
              " ('너의', 0.5010675907452133),\n",
              " ('나의', 0.5640029402499213),\n",
              " ('나는', 0.5768140291924814),\n",
              " ('너를', 0.5868948860653156),\n",
              " ('없는', 0.5969057369876439),\n",
              " ('you', 0.6069165879099723),\n",
              " ('다시', 0.6129370996534705),\n",
              " ('내게', 0.6497602296195177),\n",
              " ('우리', 0.6513003605306451),\n",
              " ('너무', 0.6667016696419196),\n",
              " ('있는', 0.7218663586404844),\n",
              " ('있어', 0.7285869298890406),\n",
              " ('없어', 0.7314571738597782),\n",
              " ('이젠', 0.7386677867618747),\n",
              " ('함께', 0.7407679652770485),\n",
              " ('모든', 0.7416780426336238),\n",
              " ('너와', 0.7459484056144772),\n",
              " ('이제', 0.7479785781791453),\n",
              " ('그대', 0.7524589590115159),\n",
              " ('이렇게', 0.7571493576954041),\n",
              " ('모두', 0.7582694529034968),\n",
              " ('my', 0.7589695124085547),\n",
              " ('같은', 0.7613497147257517),\n",
              " ('me', 0.763589905141937),\n",
              " ('지금', 0.7649200182015471),\n",
              " ('the', 0.7654100598550877),\n",
              " ('속에', 0.7726906787076901),\n",
              " ('네가', 0.7794112499562462),\n",
              " ('거야', 0.7806013511148447),\n",
              " ('to', 0.7887920473240225),\n",
              " ('않아', 0.7894921068290804),\n",
              " ('it', 0.7897021246805979),\n",
              " ('눈을', 0.7905421960866674),\n",
              " ('같아', 0.7914522734432426),\n",
              " ('너는', 0.8015331303160769),\n",
              " ('없이', 0.8028632433756869),\n",
              " ('싶어', 0.8071336063565403),\n",
              " ('나도', 0.8074836361090693),\n",
              " ('그렇게', 0.8118240050404284),\n",
              " ('우린', 0.8149742728131891),\n",
              " ('니가', 0.8161643739717876),\n",
              " ('마음', 0.8222548916657916),\n",
              " ('oh', 0.8240050404284365),\n",
              " ('정말', 0.8243550701809654),\n",
              " ('love', 0.824495082081977),\n",
              " ('그냥', 0.8250551296860233),\n",
              " ('너에게', 0.8263152367951276),\n",
              " ('그런', 0.8274353320032203),\n",
              " ('다른', 0.827505337953726),\n",
              " ('and', 0.8306556057264868),\n",
              " ('보고', 0.8319857187860968),\n",
              " ('오늘', 0.8335958556477301),\n",
              " ('in', 0.834645944905317),\n",
              " ('이런', 0.844446777976128),\n",
              " ('아직', 0.8450068255801744),\n",
              " ('작은', 0.8450068255801744),\n",
              " ('손을', 0.8473170219468655),\n",
              " ('하고', 0.8550176765025027),\n",
              " ('시간이', 0.8552276943540201),\n",
              " ('사랑', 0.8558577479085723),\n",
              " ('your', 0.8561377717105954),\n",
              " ('don', 0.8567678252651475),\n",
              " ('be', 0.8600581049389198),\n",
              " ('마음을', 0.8611081941965066),\n",
              " ('오늘도', 0.8620882775035879),\n",
              " ('매일', 0.8629283489096573),\n",
              " ('하지만', 0.8634883965137037),\n",
              " ('하나', 0.8645384857712906),\n",
              " ('않는', 0.8665686583359585),\n",
              " ('그저', 0.8668486821379817),\n",
              " ('사람', 0.8669886940389933),\n",
              " ('많은', 0.8694389023066961),\n",
              " ('그래', 0.869788932059225)]"
            ]
          },
          "metadata": {},
          "execution_count": 38
        }
      ]
    },
    {
      "cell_type": "code",
      "source": [
        "import locale\n",
        "locale.getpreferredencoding = lambda: \"UTF-8\""
      ],
      "metadata": {
        "id": "Ql5lQ5Bb4tVH"
      },
      "execution_count": null,
      "outputs": []
    },
    {
      "cell_type": "code",
      "source": [
        "!pip install rouge"
      ],
      "metadata": {
        "colab": {
          "base_uri": "https://localhost:8080/"
        },
        "id": "NxDe1PlDZpuw",
        "outputId": "63a9016d-f88d-4bbb-f42f-e3ccec91cb22"
      },
      "execution_count": null,
      "outputs": [
        {
          "output_type": "stream",
          "name": "stdout",
          "text": [
            "Requirement already satisfied: rouge in /usr/local/lib/python3.10/dist-packages (1.0.1)\n",
            "Requirement already satisfied: six in /usr/local/lib/python3.10/dist-packages (from rouge) (1.16.0)\n"
          ]
        }
      ]
    },
    {
      "cell_type": "code",
      "source": [
        "from rouge import Rouge\n",
        "\n",
        "def calculate_triplet(word_gen, word_orig, inverted_normalized_df_dict):\n",
        "    \"\"\"\n",
        "    Calculate the triplet (ROUGE score, tf-idf score, checked status) for a given pair of words.\n",
        "\n",
        "    Args:\n",
        "    - word_gen (str): The word from the generated line.\n",
        "    - word_orig (str): The word from the original lyrics.\n",
        "    - inverted_normalized_df_dict (dict): A dictionary containing the tf-idf scores for each word in the original lyrics.\n",
        "\n",
        "    Returns:\n",
        "    - tuple: A triplet containing the ROUGE score, tf-idf score, and checked status.\n",
        "    \"\"\"\n",
        "\n",
        "    word_gen_spaced = ' '.join(word_gen)\n",
        "    word_orig_spaced = ' '.join(word_orig)\n",
        "\n",
        "    # Calculate ROUGE score\n",
        "    rouge = Rouge()\n",
        "    scores = rouge.get_scores(word_gen_spaced, word_orig_spaced)\n",
        "    rouge_score = scores[0]['rouge-1']['r']\n",
        "\n",
        "    # Get tf-idf score\n",
        "    tfidf_score = inverted_normalized_df_dict.get(word_orig, 0.0)\n",
        "\n",
        "    # Set checked status (initially set to False)\n",
        "    checked = False\n",
        "\n",
        "    return (rouge_score, tfidf_score, checked)\n"
      ],
      "metadata": {
        "id": "yrBJA-XpSc1u"
      },
      "execution_count": null,
      "outputs": []
    },
    {
      "cell_type": "code",
      "source": [
        "import numpy as np\n",
        "\n",
        "def lyrics_similarity_metric(generated_line, original_lyrics, inverted_normalized_df_dict):\n",
        "    original_words = original_lyrics.split()\n",
        "    generated_words = generated_line.split()\n",
        "\n",
        "    # Construct the score matrix using list comprehensions\n",
        "    scores_matrix = np.array([[calculate_triplet(w_g, w_o, inverted_normalized_df_dict) for w_o in original_words] for w_g in generated_words])\n",
        "\n",
        "    # Determine penalty_diverse\n",
        "    max_indices = np.argmax(scores_matrix[:,:,0], axis=1)\n",
        "    penalty_diverse = len(max_indices) - len(np.unique(max_indices))\n",
        "\n",
        "    scores = []\n",
        "\n",
        "    for _ in range(len(generated_words)):\n",
        "        # Find the highest score in the matrix\n",
        "        i, j = np.unravel_index(np.argmax(scores_matrix[:,:,0], axis=None), scores_matrix[:,:,0].shape)\n",
        "        max_score = scores_matrix[i, j, 0]\n",
        "        scores.append(max_score * scores_matrix[i, j, 1])\n",
        "\n",
        "        # Set the entire corresponding row and column to -1\n",
        "        scores_matrix[i, :, 0] = -1\n",
        "        scores_matrix[:, j, 0] = -1\n",
        "\n",
        "    # Calculate the final score\n",
        "    final_score = (sum(scores) / len(scores)) * (((len(generated_words) - penalty_diverse) / len(generated_words))*0.5 + 0.5)\n",
        "\n",
        "    return final_score"
      ],
      "metadata": {
        "id": "vEEXbzOlQJTy"
      },
      "execution_count": null,
      "outputs": []
    },
    {
      "cell_type": "markdown",
      "source": [
        "##Sample"
      ],
      "metadata": {
        "id": "MrhjtO2_4zAA"
      }
    },
    {
      "cell_type": "code",
      "source": [
        "calculate_triplet('오늘마저', '오늘도', inverted_normalized_df_dict)"
      ],
      "metadata": {
        "colab": {
          "base_uri": "https://localhost:8080/"
        },
        "id": "0mgSwlp5aOiU",
        "outputId": "32b3cf83-ef72-4afa-8a22-9e355d579c28"
      },
      "execution_count": null,
      "outputs": [
        {
          "output_type": "execute_result",
          "data": {
            "text/plain": [
              "(0.6666666666666666, 0.8620882775035879, False)"
            ]
          },
          "metadata": {},
          "execution_count": 43
        }
      ]
    },
    {
      "cell_type": "code",
      "source": [
        "rouge = Rouge()\n",
        "rouge.get_scores('오 늘 마 저', '오 늘 도')"
      ],
      "metadata": {
        "colab": {
          "base_uri": "https://localhost:8080/"
        },
        "id": "3jJ3p6LrdUVK",
        "outputId": "3eb5d8de-5711-406a-87b7-4b5f972e2c0c"
      },
      "execution_count": null,
      "outputs": [
        {
          "output_type": "execute_result",
          "data": {
            "text/plain": [
              "[{'rouge-1': {'r': 0.6666666666666666, 'p': 0.5, 'f': 0.5714285665306124},\n",
              "  'rouge-2': {'r': 0.5, 'p': 0.3333333333333333, 'f': 0.39999999520000007},\n",
              "  'rouge-l': {'r': 0.6666666666666666, 'p': 0.5, 'f': 0.5714285665306124}}]"
            ]
          },
          "metadata": {},
          "execution_count": 44
        }
      ]
    },
    {
      "cell_type": "code",
      "source": [
        "GT = \"\"\"그땐 난 어떤 마음이었길래\n",
        "내 모든걸 주고도 웃을 수 있었나 yeah yeah yeah yeah\n",
        "그대는 또 어떤 마음이었길래\n",
        "그 모든걸 갖고도 돌아서 버렸나 yeah yeah yeah yeah\n",
        "뜨거운 여름밤은 가고\n",
        "남은 건 볼 품 없지만\n",
        "또다시 찾아오는 누군갈 위해서 남겨두겠소\n",
        "다짐은 세워올린 모래성은\n",
        "심술이 또 터지면 무너지겠지만 yeah yeah yeah yeah\n",
        "뜨거운 여름밤은 가고\n",
        "남은 건 볼 품 없지만\n",
        "또다시 찾아오는\n",
        "누군갈 위해서 남겨두겠소\n",
        "그리운 그 마음 그대로\n",
        "영원히 담아둘거야\n",
        "언젠가 불어오는 바람에\n",
        "남몰래 날려보겠소\n",
        "눈이 부시던 그 순간들도\n",
        "가슴아픈 그대의 거짓말도\n",
        "새하얗게 바래지고\n",
        "비틀거리던 내 발걸음도\n",
        "그늘아래 드리운 내 눈빛도\n",
        "아름답게 피어나길\n",
        "눈이 부시던 그 순간들도\n",
        "가슴아픈 그대의 거짓말도\n",
        "새하얗게 바래지고\n",
        "비틀거리던 내 발걸음도\n",
        "그늘아래 드리운 내 눈빛도\n",
        "아름답게 피어나길\n",
        "눈이 부시던 그 순간들도\n",
        "가슴아픈 그대의 거짓말도\n",
        "새하얗게 바래지고\n",
        "비틀거리던 내 발걸음도\n",
        "그늘아래 드리운 내 눈빛도\"\"\""
      ],
      "metadata": {
        "id": "Lw8Ez5vhcdF8"
      },
      "execution_count": null,
      "outputs": []
    },
    {
      "cell_type": "code",
      "source": [
        "lyrics_similarity_metric('뜨거웠던 여름밤 난 바래질 모든 순간을 남겨둘 수 있으리',GT, inverted_normalized_df_dict)"
      ],
      "metadata": {
        "colab": {
          "base_uri": "https://localhost:8080/"
        },
        "id": "xtF7UmzwZ0q9",
        "outputId": "6a6cb7de-60f4-4879-f6dd-17d496b3f67c"
      },
      "execution_count": null,
      "outputs": [
        {
          "output_type": "execute_result",
          "data": {
            "text/plain": [
              "0.42580309141091816"
            ]
          },
          "metadata": {},
          "execution_count": 46
        }
      ]
    },
    {
      "cell_type": "code",
      "source": [
        "lyrics_similarity_metric('여름밤은 뜨겁다 또 하얗게 바랠 누군갈 아프게 또 남겨요',GT, inverted_normalized_df_dict)"
      ],
      "metadata": {
        "colab": {
          "base_uri": "https://localhost:8080/"
        },
        "id": "oQAh0czceGGX",
        "outputId": "def7f6dc-59c4-4755-c6ab-38ce179629c0"
      },
      "execution_count": null,
      "outputs": [
        {
          "output_type": "execute_result",
          "data": {
            "text/plain": [
              "0.45649470482768817"
            ]
          },
          "metadata": {},
          "execution_count": 47
        }
      ]
    },
    {
      "cell_type": "code",
      "source": [
        "lyrics_similarity_metric('뜨겁게도 하얗게 널 사랑해 만날 누군갈 사랑할 수 있을까',GT, inverted_normalized_df_dict)"
      ],
      "metadata": {
        "colab": {
          "base_uri": "https://localhost:8080/"
        },
        "id": "qhJ9fkQNdwaW",
        "outputId": "d15c45e0-f46d-4c89-daba-9fd623cbfc0c"
      },
      "execution_count": null,
      "outputs": [
        {
          "output_type": "execute_result",
          "data": {
            "text/plain": [
              "0.3367187368333715"
            ]
          },
          "metadata": {},
          "execution_count": 48
        }
      ]
    },
    {
      "cell_type": "code",
      "source": [
        "lyrics_similarity_metric('뜨거운 여름밤은 뜨거운 여름밤은 뜨거운 여름밤은',GT, inverted_normalized_df_dict)"
      ],
      "metadata": {
        "colab": {
          "base_uri": "https://localhost:8080/"
        },
        "id": "wG1O2evPdNtX",
        "outputId": "0f4bf055-8c00-4708-8635-5f3209fb5d97"
      },
      "execution_count": null,
      "outputs": [
        {
          "output_type": "execute_result",
          "data": {
            "text/plain": [
              "0.5248923010307728"
            ]
          },
          "metadata": {},
          "execution_count": 49
        }
      ]
    },
    {
      "cell_type": "code",
      "source": [
        "lyrics_similarity_metric('뜨거운 여름밤은 뜨거운 여름밤에 뜨겁게 지새우리',GT, inverted_normalized_df_dict)"
      ],
      "metadata": {
        "colab": {
          "base_uri": "https://localhost:8080/"
        },
        "id": "mgy7-pnfe-Ea",
        "outputId": "7a79ee21-ebcd-4e22-a2d7-40e00604f899"
      },
      "execution_count": null,
      "outputs": [
        {
          "output_type": "execute_result",
          "data": {
            "text/plain": [
              "0.5303563302880745"
            ]
          },
          "metadata": {},
          "execution_count": 50
        }
      ]
    },
    {
      "cell_type": "markdown",
      "source": [
        "##Evaluate eval_set"
      ],
      "metadata": {
        "id": "cCN9bMT6439_"
      }
    },
    {
      "cell_type": "code",
      "source": [
        "semantic_scores = []\n",
        "for _, row in eval_df.iterrows():\n",
        "    semantic_scores.append([lyrics_similarity_metric(g, row['original_lyrics'], inverted_normalized_df_dict) for g in row['generated_lines']])"
      ],
      "metadata": {
        "id": "QZcfstFC-sIP"
      },
      "execution_count": null,
      "outputs": []
    },
    {
      "cell_type": "code",
      "source": [
        "semantic_scores"
      ],
      "metadata": {
        "colab": {
          "base_uri": "https://localhost:8080/"
        },
        "id": "sCxaUcvYBHGE",
        "outputId": "d507bd9d-f15f-4244-a61f-c177513b4d60"
      },
      "execution_count": null,
      "outputs": [
        {
          "output_type": "execute_result",
          "data": {
            "text/plain": [
              "[[0.24948769454927477, 0.18767598215889678, 0.22555161188701034],\n",
              " [0.1587729599873132, 0.11046224929118974, 0.041937151915530546],\n",
              " [0.23150717811013938, 0.12272591503611141, 0.10432221043772716],\n",
              " [0.14956765491733465, 0.2920731660628653, 0.20155039793273946],\n",
              " [0.3325467674614275, 0.2912437090024624, 0.19005319187482497],\n",
              " [0.2684581216747174, 0.3859237066400645, 0.19612446367656372],\n",
              " [0.19780843923173802, 0.33438990707404836, 0.29143631239720463],\n",
              " [0.23501991716914986, 0.21965062169173274, 0.24139269099778243],\n",
              " [0.08891818920979092, 0.10735799075659529, 0.08935761321846465],\n",
              " [0.196820417235465, 0.15876129874315942, 0.1305121226797437]]"
            ]
          },
          "metadata": {},
          "execution_count": 52
        }
      ]
    },
    {
      "cell_type": "code",
      "source": [
        "eval_df['semantic_scores'] = semantic_scores"
      ],
      "metadata": {
        "id": "28QjUjEDB2HP"
      },
      "execution_count": null,
      "outputs": []
    },
    {
      "cell_type": "markdown",
      "source": [
        "#Result"
      ],
      "metadata": {
        "id": "q8_KOrj2Bhzy"
      }
    },
    {
      "cell_type": "code",
      "source": [
        "print(f\"{'Generated Line':<50} {'Align Score':<15} {'Semantic Score':<15}\")\n",
        "print('-' * 80)  # print a separator line\n",
        "\n",
        "for _, row in eval_df.iterrows():\n",
        "    for g, a, s in zip(row['generated_lines'], row['align_scores'], row['semantic_scores']):\n",
        "        # Truncate the generated line if it's too long\n",
        "        g = (g[:47] + '...') if len(g) > 50 else g\n",
        "        print(f\"{g:<50} {a:<15.2f} {s:<15.2f}\")\n",
        "    print('-' * 80)  # print a separator line\n"
      ],
      "metadata": {
        "colab": {
          "base_uri": "https://localhost:8080/"
        },
        "id": "iVyhAPoVBkVr",
        "outputId": "99b938f6-5493-47dc-fd35-5734433239a2"
      },
      "execution_count": null,
      "outputs": [
        {
          "output_type": "stream",
          "name": "stdout",
          "text": [
            "Generated Line                                     Align Score     Semantic Score \n",
            "--------------------------------------------------------------------------------\n",
            "헤어지자 말해요 / 그대가 없는 세상에서 / 나는 살 수가 없죠 / 사랑하는 그대여     0.50            0.25           \n",
            "내가 싫어졌나요 / 아니면 내가 미워졌니 / 아니면 내가 싫어졌니 / 아니면 내가 미... 0.12            0.19           \n",
            "헤어지자 / 말해요 그대에게 / 내가 싫어졌다 / 말해요 그대에게 / 내가 지겨워졌다... 0.17            0.23           \n",
            "--------------------------------------------------------------------------------\n",
            "그 / 모래알갱이 / 같은 / 너                                 1.00            0.16           \n",
            "난 / 너에게로 달려가고 / 있는 것 같은데 / 너는 나를 / 스쳐가고 있는 것 같아... 0.62            0.11           \n",
            "사랑하는 너 / 너 / 너 / 너와 / 함께 걷던 바닷가에 / 너 / 너 / 너와 함... 0.33            0.04           \n",
            "--------------------------------------------------------------------------------\n",
            "내가 너를 사랑하는 이유 / 너를 사랑 / 하는 이유는 너라서 / 너라서 너라서       0.75            0.23           \n",
            "난 / 너에게만은 특별해 / 너에게만은 / 너에게만은 / 너에게만은 / 너에게만은 특... 0.12            0.12           \n",
            "너와 / 나 / 사랑했던 그날들 / 그 / 날 / 그 / 추억들을 / 난 / 잊지를 ... 0.46            0.10           \n",
            "--------------------------------------------------------------------------------\n",
            "난 / 너에게로 달려가 / 너에게로 달려가 / 너에게로 가                   0.75            0.15           \n",
            "건물 사이에 피어난 / 장미 꽃을 보았나요 / 그대가 있는 / 건물 사이에 피어난 /... 0.22            0.29           \n",
            "건물 / 사이 / 피어난 장미처럼 / 우리 사이도 / 피어났으면 / 좋겠어 / 건물 ... 0.50            0.20           \n",
            "--------------------------------------------------------------------------------\n",
            "잠깐 시간 될까 / 나 / 너와 함께 있고 / 싶은 것 같아                  0.50            0.33           \n",
            "잠깐 시간 될까 우리 얘기 / 할 수 있게 / 잠깐 시간 될까 / 우리 얘기 할 수 ... 0.50            0.29           \n",
            "잠깐 시간 될까 우리 / 오늘 밤에 만날래요 / 우리 / 오늘 밤에 / 만날 / 시간... 0.25            0.19           \n",
            "--------------------------------------------------------------------------------\n",
            "나는 운이 좋지 / 난 / 운이 좋지 난 난 운이 좋지 / 난 운이 좋지           0.50            0.27           \n",
            "나는 / 운이 좋았지 좋은 사람들 / 곁에 많고 / 운이 좋았지 / 나는 운이 좋았지... 0.38            0.39           \n",
            "난 / 운이 / 좋았지 / 너를 쉽게 만났으니까 / 너와 / 함께한 시간들은 / 참 ... 0.40            0.20           \n",
            "--------------------------------------------------------------------------------\n",
            "우리가 사랑했던 / 그 / 시간들 속에 / 난                          1.00            0.20           \n",
            "그건 / 아마 우리의 잘못은 / 아닐 거야 그럴 / 거야 우리의 잘못은 아닐 거야 /... 0.25            0.33           \n",
            "그건 아마 / 우리의 잘못은 아닐 / 거야 / 그건 아마 / 우리의 / 잘못은 아닐 ... 0.08            0.29           \n",
            "--------------------------------------------------------------------------------\n",
            "지나간 / 여름 / 속에 / 난                                  0.75            0.24           \n",
            "지나간 여름을 아쉬워 / 마 / 지나간 여름을 / 아쉬워 / 마 / 지나간 여름을 아... 0.33            0.22           \n",
            "지나간 여름을 / 아쉬워 하지마 / 너의 / 지나간 / 여름을 아쉬워마 / 지나간 /... 0.33            0.24           \n",
            "--------------------------------------------------------------------------------\n",
            "내가 있잖아 / 내가 있잖아 / 내가 있잖아 내가 있잖아 / 내가 있잖아           0.50            0.09           \n",
            "그대가 나를 떠나가던 날 / 나는 꿈을 꾸었어요 / 그 / 꿈에 / 그대가 내게로 /... 0.22            0.11           \n",
            "어떤 위로가 / 널 / 웃게 할 수 있을까 어떤 / 위로가 / 널 울게 할 수 있을까... 0.25            0.09           \n",
            "--------------------------------------------------------------------------------\n",
            "내 / 맘을 / 받아줄래요 / 그대와의 / 사랑을 시작해요                   0.60            0.20           \n",
            "사랑이란 / 말로는 부족한 것 / 사랑이란 말로는 / 부족한 것 / 그 / 사랑이란 ... 0.12            0.16           \n",
            "너를 / 사랑해 너를 사랑해 / 너를 사랑해 너를 / 사랑해 너를 / 사랑해 너를 사... 0.25            0.13           \n",
            "--------------------------------------------------------------------------------\n"
          ]
        }
      ]
    },
    {
      "cell_type": "code",
      "source": [
        "eval_df['align_scores'].apply(lambda x: sum(x)/3).mean()"
      ],
      "metadata": {
        "colab": {
          "base_uri": "https://localhost:8080/"
        },
        "id": "KyYiFHl4T8Pp",
        "outputId": "166dc35d-be35-4023-ae92-baa0d5a2729a"
      },
      "execution_count": null,
      "outputs": [
        {
          "output_type": "execute_result",
          "data": {
            "text/plain": [
              "0.42603276353276354"
            ]
          },
          "metadata": {},
          "execution_count": 55
        }
      ]
    },
    {
      "cell_type": "code",
      "source": [
        "eval_df['semantic_scores'].apply(lambda x: sum(x)/3).mean()"
      ],
      "metadata": {
        "colab": {
          "base_uri": "https://localhost:8080/"
        },
        "id": "bp8H8XW5Ufb6",
        "outputId": "c3a96326-e87c-41f1-e371-feb3030cc902"
      },
      "execution_count": null,
      "outputs": [
        {
          "output_type": "execute_result",
          "data": {
            "text/plain": [
              "0.20104698843403562"
            ]
          },
          "metadata": {},
          "execution_count": 56
        }
      ]
    },
    {
      "cell_type": "code",
      "source": [
        "with open('model2.txt', 'w') as f:\n",
        "    f.write('align_scores: '+ str(eval_df['align_scores'].apply(lambda x: sum(x)/3).mean())+'\\nsemantic_scores: '+ str(eval_df['semantic_scores'].apply(lambda x: sum(x)/3).mean()))"
      ],
      "metadata": {
        "id": "vNdOgpFXVKAu"
      },
      "execution_count": null,
      "outputs": []
    }
  ]
}